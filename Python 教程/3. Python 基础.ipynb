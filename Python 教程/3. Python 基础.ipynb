{
 "cells": [
  {
   "cell_type": "markdown",
   "metadata": {},
   "source": [
    "# Python 基础"
   ]
  },
  {
   "cell_type": "markdown",
   "metadata": {},
   "source": [
    "\n",
    "Python是一种计算机编程语言。计算机编程语言和我们日常使用的自然语言有所不同，最大的区别就是，自然语言在不同的语境下有不同的理解，而计算机要根据编程语言执行任务，就必须保证编程语言写出的程序决不能有歧义，所以，任何一种编程语言都有自己的一套语法，编译器或者解释器就是负责把符合语法的程序代码转换成CPU能够执行的机器码，然后执行。Python也不例外。\n",
    "\n",
    "Python的语法比较简单，采用缩进方式，写出来的代码就像下面的样子："
   ]
  },
  {
   "cell_type": "code",
   "execution_count": 1,
   "metadata": {},
   "outputs": [
    {
     "name": "stdout",
     "output_type": "stream",
     "text": [
      "100\n"
     ]
    }
   ],
   "source": [
    "# print absolute value of an integer:\n",
    "a = 100\n",
    "if a >= 0:\n",
    "    print(a)\n",
    "else:\n",
    "    print(-a)"
   ]
  },
  {
   "cell_type": "markdown",
   "metadata": {},
   "source": [
    "**以```#```开头的语句是注释，注释是给人看的，可以是任意内容，解释器会忽略掉注释。其他每一行都是一个语句，当语句以冒号:结尾时，缩进的语句视为代码块。**\n",
    "\n",
    "缩进有利有弊。好处是强迫你写出格式化的代码，但没有规定缩进是几个空格还是Tab。*按照约定俗成的惯例，应该始终坚持使用4个空格的缩进。*\n",
    "\n",
    "缩进的另一个好处是强迫你写出缩进较少的代码，你会倾向于把一段很长的代码拆分成若干函数，从而得到缩进较少的代码。\n",
    "\n",
    "缩进的坏处就是“复制－粘贴”功能失效了，这是最坑爹的地方。当你重构代码时，粘贴过去的代码必须重新检查缩进是否正确。此外，IDE很难像格式化Java代码那样格式化Python代码。\n",
    "\n",
    "*最后，请务必注意，Python程序是大小写敏感的，如果写错了大小写，程序会报错。*"
   ]
  },
  {
   "cell_type": "markdown",
   "metadata": {},
   "source": [
    "## 小结\n"
   ]
  },
  {
   "cell_type": "markdown",
   "metadata": {},
   "source": [
    "Python使用缩进来组织代码块，请务必遵守约定俗成的习惯，坚持使用4个空格的缩进。\n",
    "\n",
    "在文本编辑器中，需要设置把Tab自动转换为4个空格，确保不混用Tab和空格。"
   ]
  },
  {
   "cell_type": "markdown",
   "metadata": {},
   "source": []
  },
  {
   "cell_type": "markdown",
   "metadata": {},
   "source": [
    "## 数据类型和变量"
   ]
  },
  {
   "cell_type": "markdown",
   "metadata": {},
   "source": [
    "### 数据类型"
   ]
  },
  {
   "cell_type": "markdown",
   "metadata": {},
   "source": [
    "计算机顾名思义就是可以做数学计算的机器，因此，计算机程序理所当然地可以处理各种数值。但是，计算机能处理的远不止数值，还可以处理文本、图形、音频、视频、网页等各种各样的数据，不同的数据，需要定义不同的数据类型。在Python中，能够直接处理的数据类型有以下几种："
   ]
  },
  {
   "cell_type": "markdown",
   "metadata": {},
   "source": [
    "#### 整数"
   ]
  },
  {
   "cell_type": "markdown",
   "metadata": {},
   "source": [
    "Python可以处理任意大小的整数，当然包括负整数，在程序中的表示方法和数学上的写法一模一样，例如：```1```，```100```，```-8080```，```0```，等等。\n",
    "\n",
    "计算机由于使用二进制，所以，有时候用十六进制表示整数比较方便，**十六进制用```0x```前缀和0-9，a-f表示**，例如：```0xff00```，```0xa5b4c3d2```，等等。\n",
    "\n",
    "对于很大的数，例如```10000000000```，很难数清楚0的个数。Python允许在数字中间以```_```分隔，因此，写成```10_000_000_000```和```10000000000```是完全一样的。十六进制数也可以写成```0xa1b2_c3d4```。"
   ]
  },
  {
   "cell_type": "markdown",
   "metadata": {},
   "source": [
    "#### 浮点数"
   ]
  },
  {
   "cell_type": "markdown",
   "metadata": {},
   "source": [
    "**浮点数也就是小数，之所以称为浮点数，是因为按照科学记数法表示时，一个浮点数的小数点位置是可变的**，比如，$1.23\\times10^9$和$12.3\\times10^8$是完全相等的。浮点数可以用数学写法，如```1.23```，```3.14```，```-9.01```，等等。但是对于很大或很小的浮点数，就必须用科学计数法表示，把10用e替代，$1.23\\times10^9$就是```1.23e9```，或者```12.3e8```，```0.000012```可以写成```1.2e-5```，等等。\n",
    "\n",
    "整数和浮点数在计算机内部存储的方式是不同的，*整数运算永远是精确的（除法难道也是精确的？是的！）*，而浮点数运算则可能会有四舍五入的误差。"
   ]
  },
  {
   "cell_type": "markdown",
   "metadata": {},
   "source": [
    "#### 字符串"
   ]
  },
  {
   "cell_type": "markdown",
   "metadata": {},
   "source": [
    "**字符串是以单引号```'```或双引号```\"```括起来的任意文本**，比如```'abc'```，```\"xyz\"```等等。请注意，```''```或```\"\"```本身只是一种表示方式，不是字符串的一部分，因此，字符串```'abc'```只有```a```，```b```，```c```这3个字符。如果```'```本身也是一个字符，那就可以用```\"\"```括起来，比如```\"I'm OK\"```包含的字符是```I```，```'```，```m```，``` ```，```O```，```K```这6个字符。\n",
    "\n",
    "**如果字符串内部既包含```'```又包含```\"```怎么办？可以用转义字符```\\```来标识**，比如："
   ]
  },
  {
   "cell_type": "code",
   "execution_count": 2,
   "metadata": {},
   "outputs": [
    {
     "name": "stdout",
     "output_type": "stream",
     "text": [
      "I'm \"OK\"!\n"
     ]
    }
   ],
   "source": [
    "print('I\\'m \\\"OK\\\"!')"
   ]
  },
  {
   "cell_type": "markdown",
   "metadata": {},
   "source": [
    "**转义字符```\\```可以转义很多字符，比如**```\\n```表示换行，```\\t```表示制表符，字符```\\```本身也要转义，所以```\\\\```表示的字符就是```\\```**，可以在Python的交互式命令行用```print()```打印字符串看看："
   ]
  },
  {
   "cell_type": "code",
   "execution_count": 3,
   "metadata": {},
   "outputs": [
    {
     "name": "stdout",
     "output_type": "stream",
     "text": [
      "I'm learning\n",
      "Python.\n"
     ]
    }
   ],
   "source": [
    "print('I\\'m learning\\nPython.')"
   ]
  },
  {
   "cell_type": "code",
   "execution_count": 4,
   "metadata": {},
   "outputs": [
    {
     "name": "stdout",
     "output_type": "stream",
     "text": [
      "\\\n",
      "\\\n"
     ]
    }
   ],
   "source": [
    "print('\\\\\\n\\\\')"
   ]
  },
  {
   "cell_type": "markdown",
   "metadata": {},
   "source": [
    "如果字符串里面有很多字符都需要转义，就需要加很多```\\```，为了简化，**Python还允许用```r' '```表示```' '```内部的字符串默认不转义**，可以自己试试："
   ]
  },
  {
   "cell_type": "code",
   "execution_count": 5,
   "metadata": {},
   "outputs": [
    {
     "name": "stdout",
     "output_type": "stream",
     "text": [
      "\\\t\\\n"
     ]
    }
   ],
   "source": [
    "print('\\\\\\t\\\\')"
   ]
  },
  {
   "cell_type": "code",
   "execution_count": 6,
   "metadata": {},
   "outputs": [
    {
     "name": "stdout",
     "output_type": "stream",
     "text": [
      "\\\\\\t\\\\\n"
     ]
    }
   ],
   "source": [
    " print(r'\\\\\\t\\\\')"
   ]
  },
  {
   "cell_type": "markdown",
   "metadata": {},
   "source": [
    "如果字符串内部有很多换行，用```\\n```写在一行里不好阅读，为了简化，**Python允许用```'''...'''```的格式表示多行内容**，可以自己试试："
   ]
  },
  {
   "cell_type": "code",
   "execution_count": 7,
   "metadata": {},
   "outputs": [
    {
     "name": "stdout",
     "output_type": "stream",
     "text": [
      "line1\n",
      "line2\n",
      "line3\n"
     ]
    }
   ],
   "source": [
    "print('''line1\n",
    "... line2\n",
    "... line3''')"
   ]
  },
  {
   "cell_type": "markdown",
   "metadata": {},
   "source": [
    "上面是在交互式命令行内输入，注意在输入多行内容时，提示符由```>>>```变为```...```，提示你可以接着上一行输入，注意```...```是提示符，不是代码的一部分：\n",
    "\n",
    "```\n",
    "│>>> print('''line1                                      \n",
    "│... line2                                               \n",
    "│... line3''')                                           \n",
    "│line1                                                   \n",
    "│line2                                                   \n",
    "│line3                                                   \n",
    "│                                                       \n",
    "```\n",
    "\n",
    "当输入完结束符```'''```和括号```)```后，执行该语句并打印结果。\n",
    "\n",
    "如果写成程序并存为.py文件，就是：\n",
    "\n",
    "```\n",
    "print('''line1\n",
    "line2\n",
    "line3''')\n",
    "```\n",
    "\n",
    "多行字符串```'''...'''```还可以在前面加上r使用，请自行测试："
   ]
  },
  {
   "cell_type": "code",
   "execution_count": 8,
   "metadata": {},
   "outputs": [
    {
     "name": "stdout",
     "output_type": "stream",
     "text": [
      "hello,\\n\n",
      "world\n"
     ]
    }
   ],
   "source": [
    "print(r'''hello,\\n\n",
    "world''')"
   ]
  },
  {
   "cell_type": "markdown",
   "metadata": {},
   "source": [
    "#### 布尔值"
   ]
  },
  {
   "cell_type": "markdown",
   "metadata": {},
   "source": [
    "布尔值和布尔代数的表示完全一致，**一个布尔值只有```True```、```False```两种值，要么是```True```，要么是```False```**，在Python中，可以直接用```True```、```False```表示布尔值（请注意大小写），也可以通过布尔运算计算出来："
   ]
  },
  {
   "cell_type": "code",
   "execution_count": 9,
   "metadata": {},
   "outputs": [
    {
     "data": {
      "text/plain": [
       "True"
      ]
     },
     "execution_count": 9,
     "metadata": {},
     "output_type": "execute_result"
    }
   ],
   "source": [
    "True"
   ]
  },
  {
   "cell_type": "code",
   "execution_count": 10,
   "metadata": {},
   "outputs": [
    {
     "data": {
      "text/plain": [
       "False"
      ]
     },
     "execution_count": 10,
     "metadata": {},
     "output_type": "execute_result"
    }
   ],
   "source": [
    "False"
   ]
  },
  {
   "cell_type": "code",
   "execution_count": 11,
   "metadata": {},
   "outputs": [
    {
     "data": {
      "text/plain": [
       "True"
      ]
     },
     "execution_count": 11,
     "metadata": {},
     "output_type": "execute_result"
    }
   ],
   "source": [
    "3 > 2"
   ]
  },
  {
   "cell_type": "code",
   "execution_count": 12,
   "metadata": {},
   "outputs": [
    {
     "data": {
      "text/plain": [
       "False"
      ]
     },
     "execution_count": 12,
     "metadata": {},
     "output_type": "execute_result"
    }
   ],
   "source": [
    "3 > 5"
   ]
  },
  {
   "cell_type": "markdown",
   "metadata": {},
   "source": [
    "布尔值可以用```and```、```or```和```not```运算。\n",
    "\n",
    "**```and```运算是与运算，只有所有都为```True```，```and```运算结果才是```True```**："
   ]
  },
  {
   "cell_type": "code",
   "execution_count": 13,
   "metadata": {},
   "outputs": [
    {
     "data": {
      "text/plain": [
       "True"
      ]
     },
     "execution_count": 13,
     "metadata": {},
     "output_type": "execute_result"
    }
   ],
   "source": [
    "True and True"
   ]
  },
  {
   "cell_type": "code",
   "execution_count": 14,
   "metadata": {},
   "outputs": [
    {
     "data": {
      "text/plain": [
       "False"
      ]
     },
     "execution_count": 14,
     "metadata": {},
     "output_type": "execute_result"
    }
   ],
   "source": [
    "True and False"
   ]
  },
  {
   "cell_type": "code",
   "execution_count": 15,
   "metadata": {},
   "outputs": [
    {
     "data": {
      "text/plain": [
       "False"
      ]
     },
     "execution_count": 15,
     "metadata": {},
     "output_type": "execute_result"
    }
   ],
   "source": [
    " False and False"
   ]
  },
  {
   "cell_type": "code",
   "execution_count": 16,
   "metadata": {},
   "outputs": [
    {
     "data": {
      "text/plain": [
       "True"
      ]
     },
     "execution_count": 16,
     "metadata": {},
     "output_type": "execute_result"
    }
   ],
   "source": [
    "5 > 3 and 3 > 1"
   ]
  },
  {
   "cell_type": "markdown",
   "metadata": {},
   "source": [
    "**```or```运算是或运算，只要其中有一个为```True```，```or```运算结果就是```True```**："
   ]
  },
  {
   "cell_type": "code",
   "execution_count": 17,
   "metadata": {},
   "outputs": [
    {
     "data": {
      "text/plain": [
       "True"
      ]
     },
     "execution_count": 17,
     "metadata": {},
     "output_type": "execute_result"
    }
   ],
   "source": [
    " True or True"
   ]
  },
  {
   "cell_type": "code",
   "execution_count": 18,
   "metadata": {},
   "outputs": [
    {
     "data": {
      "text/plain": [
       "True"
      ]
     },
     "execution_count": 18,
     "metadata": {},
     "output_type": "execute_result"
    }
   ],
   "source": [
    "True or False"
   ]
  },
  {
   "cell_type": "code",
   "execution_count": 19,
   "metadata": {},
   "outputs": [
    {
     "data": {
      "text/plain": [
       "False"
      ]
     },
     "execution_count": 19,
     "metadata": {},
     "output_type": "execute_result"
    }
   ],
   "source": [
    "False or False"
   ]
  },
  {
   "cell_type": "code",
   "execution_count": 20,
   "metadata": {},
   "outputs": [
    {
     "data": {
      "text/plain": [
       "True"
      ]
     },
     "execution_count": 20,
     "metadata": {},
     "output_type": "execute_result"
    }
   ],
   "source": [
    "5 > 3 or 1 > 3"
   ]
  },
  {
   "cell_type": "markdown",
   "metadata": {},
   "source": [
    "**```not```运算是非运算，它是一个单目运算符，把```True```变成```False```，```False```变成```True```**:"
   ]
  },
  {
   "cell_type": "code",
   "execution_count": 21,
   "metadata": {},
   "outputs": [
    {
     "data": {
      "text/plain": [
       "False"
      ]
     },
     "execution_count": 21,
     "metadata": {},
     "output_type": "execute_result"
    }
   ],
   "source": [
    "not True"
   ]
  },
  {
   "cell_type": "code",
   "execution_count": 22,
   "metadata": {},
   "outputs": [
    {
     "data": {
      "text/plain": [
       "True"
      ]
     },
     "execution_count": 22,
     "metadata": {},
     "output_type": "execute_result"
    }
   ],
   "source": [
    "not False"
   ]
  },
  {
   "cell_type": "code",
   "execution_count": 23,
   "metadata": {},
   "outputs": [
    {
     "data": {
      "text/plain": [
       "True"
      ]
     },
     "execution_count": 23,
     "metadata": {},
     "output_type": "execute_result"
    }
   ],
   "source": [
    "not 1 > 2"
   ]
  },
  {
   "cell_type": "markdown",
   "metadata": {},
   "source": [
    "布尔值经常用在条件判断中，比如：\n",
    "\n",
    "```\n",
    "if age >= 18:\n",
    "    print('adult')\n",
    "else:\n",
    "    print('teenager')\n",
    "```"
   ]
  },
  {
   "cell_type": "markdown",
   "metadata": {},
   "source": [
    "#### 空值"
   ]
  },
  {
   "cell_type": "markdown",
   "metadata": {},
   "source": [
    "**空值是Python里一个特殊的值，用```None```表示。**```None```不能理解为```0```，因为```0```是有意义的，而```None```是一个特殊的空值。\n",
    "\n",
    "此外，Python还提供了列表、字典等多种数据类型，还允许创建自定义数据类型，我们后面会继续讲到。"
   ]
  },
  {
   "cell_type": "markdown",
   "metadata": {},
   "source": [
    "### 变量"
   ]
  },
  {
   "cell_type": "markdown",
   "metadata": {},
   "source": [
    "变量的概念基本上和初中代数的方程变量是一致的，只是在计算机程序中，变量不仅可以是数字，还可以是任意数据类型。\n",
    "\n",
    "*变量在程序中就是用一个变量名表示了，变量名必须是大小写英文、数字和```_```的组合，且不能用数字开头，*比如："
   ]
  },
  {
   "cell_type": "code",
   "execution_count": 24,
   "metadata": {},
   "outputs": [],
   "source": [
    "a = 1"
   ]
  },
  {
   "cell_type": "markdown",
   "metadata": {},
   "source": [
    "变量```a```是一个整数。\n"
   ]
  },
  {
   "cell_type": "code",
   "execution_count": 25,
   "metadata": {},
   "outputs": [],
   "source": [
    "t_007 = 'T007'"
   ]
  },
  {
   "cell_type": "markdown",
   "metadata": {},
   "source": [
    "变量```t_007```是一个字符串。"
   ]
  },
  {
   "cell_type": "code",
   "execution_count": 26,
   "metadata": {},
   "outputs": [],
   "source": [
    "Answer = True"
   ]
  },
  {
   "cell_type": "markdown",
   "metadata": {},
   "source": [
    "变量```Answer```是一个布尔值```True```。\n",
    "\n",
    "*在Python中，等号```=```是赋值语句，可以把任意数据类型赋值给变量，同一个变量可以反复赋值，而且可以是不同类型的变量，*例如："
   ]
  },
  {
   "cell_type": "code",
   "execution_count": 27,
   "metadata": {},
   "outputs": [
    {
     "name": "stdout",
     "output_type": "stream",
     "text": [
      "123\n",
      "ABC\n"
     ]
    }
   ],
   "source": [
    "a = 123 # a是整数\n",
    "print(a)\n",
    "a = 'ABC' # a变为字符串\n",
    "print(a)"
   ]
  },
  {
   "cell_type": "markdown",
   "metadata": {},
   "source": [
    "**这种变量本身类型不固定的语言称之为动态语言，与之对应的是静态语言。** *静态语言在定义变量时必须指定变量类型，如果赋值的时候类型不匹配，就会报错。*例如Java是静态语言，赋值语句如下（// 表示注释）：\n",
    "\n",
    "```\n",
    "int a = 123; // a是整数类型变量\n",
    "a = \"ABC\"; // 错误：不能把字符串赋给整型变量\n",
    "```"
   ]
  },
  {
   "cell_type": "markdown",
   "metadata": {},
   "source": [
    "和静态语言相比，动态语言更灵活，就是这个原因。\n",
    "\n",
    "请不要把赋值语句的等号等同于数学的等号。比如下面的代码：\n",
    "\n",
    "```\n",
    "x = 10\n",
    "x = x + 2\n",
    "```\n",
    "\n",
    "如果从数学上理解```x = x + 2```那无论如何是不成立的，在程序中，赋值语句先计算右侧的表达式```x + 2```，得到结果```12```，再赋给变量```x```。由于```x```之前的值是```10```，重新赋值后，```x```的值变成```12```。\n",
    "\n",
    "最后，理解变量在计算机内存中的表示也非常重要。当我们写：\n",
    "\n",
    "```\n",
    "a = 'ABC'\n",
    "```\n",
    "\n",
    "时，Python解释器干了两件事情：\n",
    "\n",
    "1. 在内存中创建了一个```'ABC'```的字符串；\n",
    "\n",
    "2. 在内存中创建了一个名为```a```的变量，并把它指向```'ABC'```。\n",
    "\n",
    "也可以把一个变量```a```赋值给另一个变量```b```，这个操作实际上是把变量```b```指向变量```a```所指向的数据，例如下面的代码："
   ]
  },
  {
   "cell_type": "code",
   "execution_count": 28,
   "metadata": {},
   "outputs": [
    {
     "name": "stdout",
     "output_type": "stream",
     "text": [
      "ABC\n"
     ]
    }
   ],
   "source": [
    "a = 'ABC'\n",
    "b = a\n",
    "a = 'XYZ'\n",
    "print(b)"
   ]
  },
  {
   "cell_type": "markdown",
   "metadata": {},
   "source": [
    "最后一行打印出变量```b```的内容到底是```'ABC'```呢还是```'XYZ'```？如果从数学意义上理解，就会错误地得出```b```和```a```相同，也应该是```'XYZ'```，但实际上```b```的值是```'ABC'```，让我们一行一行地执行代码，就可以看到到底发生了什么事：\n",
    "\n",
    "执行```a = 'ABC'```，解释器创建了字符串```'ABC'```和变量```a```，并把```a```指向```'ABC'```：\n",
    "\n",
    "![Figure 3.1](https://static.liaoxuefeng.com/files/attachments/923791878255456/0)\n",
    "\n",
    "执行```b = a```，解释器创建了变量```b```，并把```b```指向```a```指向的字符串```'ABC'```：\n",
    "\n",
    "![Figure 3.2](https://static.liaoxuefeng.com/files/attachments/923792058613440/0)\n",
    "\n",
    "执行```a = 'XYZ'```，解释器创建了字符串```'XYZ'```，并把```a```的指向改为```'XYZ'```，但```b```并没有更改：\n",
    "\n",
    "![Figure 3.3](https://static.liaoxuefeng.com/files/attachments/923792191637760/0)\n",
    "\n",
    "所以，最后打印变量```b```的结果自然是```'ABC'```了。\n"
   ]
  },
  {
   "cell_type": "markdown",
   "metadata": {},
   "source": [
    "### 常量"
   ]
  },
  {
   "cell_type": "markdown",
   "metadata": {},
   "source": [
    "**所谓常量就是不能变的变量**，比如常用的数学常数$\\pi$就是一个常量。**在Python中，通常用全部大写的变量名表示常量**："
   ]
  },
  {
   "cell_type": "code",
   "execution_count": 29,
   "metadata": {},
   "outputs": [],
   "source": [
    "PI = 3.14159265359"
   ]
  },
  {
   "cell_type": "markdown",
   "metadata": {},
   "source": [
    "但事实上```PI```仍然是一个变量，Python根本没有任何机制保证```PI```不会被改变，所以，*用全部大写的变量名表示常量只是一个习惯上的用法*，如果你一定要改变变量```PI```的值，也没人能拦住你。\n",
    "\n",
    "最后解释一下整数的除法为什么也是精确的。在Python中，有两种除法，一种除法是```/```："
   ]
  },
  {
   "cell_type": "code",
   "execution_count": 30,
   "metadata": {},
   "outputs": [
    {
     "data": {
      "text/plain": [
       "3.3333333333333335"
      ]
     },
     "execution_count": 30,
     "metadata": {},
     "output_type": "execute_result"
    }
   ],
   "source": [
    "10/3"
   ]
  },
  {
   "cell_type": "markdown",
   "metadata": {},
   "source": [
    "```/```除法计算结果是浮点数，即使是两个整数恰好整除，结果也是浮点数："
   ]
  },
  {
   "cell_type": "code",
   "execution_count": 31,
   "metadata": {},
   "outputs": [
    {
     "data": {
      "text/plain": [
       "3.0"
      ]
     },
     "execution_count": 31,
     "metadata": {},
     "output_type": "execute_result"
    }
   ],
   "source": [
    "9 / 3"
   ]
  },
  {
   "cell_type": "markdown",
   "metadata": {},
   "source": [
    "**还有一种除法是```//```，称为地板除，两个整数的除法仍然是整数**："
   ]
  },
  {
   "cell_type": "code",
   "execution_count": 32,
   "metadata": {},
   "outputs": [
    {
     "data": {
      "text/plain": [
       "3"
      ]
     },
     "execution_count": 32,
     "metadata": {},
     "output_type": "execute_result"
    }
   ],
   "source": [
    "10 // 3"
   ]
  },
  {
   "cell_type": "markdown",
   "metadata": {},
   "source": [
    "你没有看错，整数的地板除```//```永远是整数，即使除不尽。要做精确的除法，使用```/```就可以。\n",
    "\n",
    "因为```//```除法只取结果的整数部分，所以Python还提供一个余数运算，可以得到两个整数相除的余数："
   ]
  },
  {
   "cell_type": "code",
   "execution_count": 33,
   "metadata": {},
   "outputs": [
    {
     "data": {
      "text/plain": [
       "1"
      ]
     },
     "execution_count": 33,
     "metadata": {},
     "output_type": "execute_result"
    }
   ],
   "source": [
    "10 % 3"
   ]
  },
  {
   "cell_type": "markdown",
   "metadata": {},
   "source": [
    "*无论整数做```//```除法还是取余数，结果永远是整数，所以，整数运算结果永远是精确的。*"
   ]
  },
  {
   "cell_type": "markdown",
   "metadata": {},
   "source": [
    "### 练习"
   ]
  },
  {
   "cell_type": "markdown",
   "metadata": {},
   "source": [
    "请打印出以下变量的值：\n",
    "\n",
    "```\n",
    "n = 123\n",
    "f = 456.789\n",
    "s1 = 'Hello, world'\n",
    "s2 = 'Hello, \\'Adam\\''\n",
    "s3 = r'Hello, \"Bart\"'\n",
    "s4 = r'''Hello,\n",
    "Lisa!'''\n",
    "```"
   ]
  },
  {
   "cell_type": "code",
   "execution_count": 34,
   "metadata": {},
   "outputs": [],
   "source": [
    "n = 123\n",
    "f = 456.789\n",
    "s1 = 'Hello, world'\n",
    "s2 = 'Hello, \\'Adam\\''\n",
    "s3 = r'Hello, \"Bart\"'\n",
    "s4 = r'''Hello,\n",
    "Lisa!'''"
   ]
  },
  {
   "cell_type": "code",
   "execution_count": 35,
   "metadata": {},
   "outputs": [
    {
     "name": "stdout",
     "output_type": "stream",
     "text": [
      "123\n",
      "456.789\n",
      "Hello, world\n",
      "Hello, 'Adam'\n",
      "Hello, \"Bart\"\n",
      "Hello,\n",
      "Lisa!\n"
     ]
    }
   ],
   "source": [
    "print(n)\n",
    "print(f)\n",
    "print(s1)\n",
    "print(s2)\n",
    "print(s3)\n",
    "print(s4)"
   ]
  },
  {
   "cell_type": "markdown",
   "metadata": {},
   "source": [
    "### 小结"
   ]
  },
  {
   "cell_type": "markdown",
   "metadata": {},
   "source": [
    "Python支持多种数据类型，在计算机内部，可以把任何数据都看成一个“对象”，而变量就是在程序中用来指向这些数据对象的，对变量赋值就是把数据和变量给关联起来。\n",
    "\n",
    "对变量赋值```x = y```是把变量```x```指向真正的对象，该对象是变量```y```所指向的。随后对变量```y```的赋值不影响变量```x```的指向。\n",
    "\n",
    "注意：Python的整数没有大小限制，而某些语言的整数根据其存储长度是有大小限制的，例如Java对32位整数的范围限制在```-2147483648-2147483647```。\n",
    "\n",
    "Python的浮点数也没有大小限制，但是超出一定范围就直接表示为```inf```（无限大）。"
   ]
  },
  {
   "cell_type": "markdown",
   "metadata": {},
   "source": []
  },
  {
   "cell_type": "markdown",
   "metadata": {},
   "source": [
    "## 字符串和编码"
   ]
  },
  {
   "cell_type": "markdown",
   "metadata": {},
   "source": [
    "### 字符编码"
   ]
  },
  {
   "cell_type": "markdown",
   "metadata": {},
   "source": [
    "我们已经讲过了，字符串也是一种数据类型，但是，字符串比较特殊的是还有一个编码问题。\n",
    "\n",
    "因为计算机只能处理数字，如果要处理文本，就必须先把文本转换为数字才能处理。最早的计算机在设计时采用**8个比特（bit）作为一个字节（```byte```）**，所以，一个字节能表示的最大的整数就是```255```（二进制```11111111```=十进制```255```），如果要表示更大的整数，就必须用更多的字节。比如两个字节可以表示的最大整数是```65535```，4个字节可以表示的最大整数是```4294967295```。\n",
    "\n",
    "**由于计算机是美国人发明的，因此，最早只有127个字符被编码到计算机里，也就是大小写英文字母、数字和一些符号，这个编码表被称为ASCII编码，**比如大写字母```A```的编码是```65```，小写字母```z```的编码是```122```。\n",
    "\n",
    "但是要处理中文显然一个字节是不够的，至少需要两个字节，而且还不能和ASCII编码冲突，所以，中国制定了GB2312编码，用来把中文编进去。\n",
    "\n",
    "你可以想得到的是，全世界有上百种语言，日本把日文编到Shift_JIS里，韩国把韩文编到Euc-kr里，各国有各国的标准，就会不可避免地出现冲突，结果就是，在多语言混合的文本中，显示出来会有乱码。\n",
    "\n",
    "![Figure 3.4](https://static.liaoxuefeng.com/files/attachments/923930471927008/0)\n",
    "\n",
    "因此，**Unicode字符集应运而生。Unicode把所有语言都统一到一套编码里，这样就不会再有乱码问题了。**\n",
    "\n",
    "Unicode标准也在不断发展，但最常用的是**UCS-16编码，用两个字节表示一个字符（如果要用到非常偏僻的字符，就需要4个字节）**。现代操作系统和大多数编程语言都直接支持Unicode。\n",
    "\n",
    "现在，捋一捋ASCII编码和Unicode编码的区别：*ASCII编码是1个字节，而Unicode编码通常是2个字节。*\n",
    "\n",
    "字母```A```用ASCII编码是十进制的```65```，二进制的```01000001```；\n",
    "\n",
    "字符```0```用ASCII编码是十进制的```48```，二进制的```00110000```，注意字符```'0'```和整数```0```是不同的；\n",
    "\n",
    "汉字```中```已经超出了ASCII编码的范围，用Unicode编码是十进制的```20013```，二进制的```01001110 00101101```。\n",
    "\n",
    "你可以猜测，*如果把ASCII编码的```A```用Unicode编码，只需要在前面补0就可以，*因此，A的Unicode编码是```00000000 01000001```。\n",
    "\n",
    "新的问题又出现了：*如果统一成Unicode编码，乱码问题从此消失了。但是，如果你写的文本基本上全部是英文的话，用Unicode编码比ASCII编码需要多一倍的存储空间，在存储和传输上就十分不划算。*\n",
    "\n",
    "所以，**本着节约的精神，又出现了把Unicode编码转化为“可变长编码”的UTF-8编码。UTF-8编码把一个Unicode字符根据不同的数字大小编码成1-6个字节，常用的英文字母被编码成1个字节，汉字通常是3个字节，只有很生僻的字符才会被编码成4-6个字节。** *如果你要传输的文本包含大量英文字符，用UTF-8编码就能节省空间：*\n",
    "\n",
    "| 字符     | ASCII          | Unicode                  | UTF-8                            |\n",
    "|----------|----------------|--------------------------|----------------------------------|\n",
    "| ```中``` | ×              | ```01001110 00101101```  | ```11100100 10111000 10101101``` |\n",
    "| ```A```  | ```01000001``` | ```00000000 01000001```  | ```01000001```                   |\n",
    "\n",
    "从上面的表格还可以发现，*UTF-8编码有一个额外的好处，就是ASCII编码实际上可以被看成是UTF-8编码的一部分，所以，大量只支持ASCII编码的历史遗留软件可以在UTF-8编码下继续工作。*\n",
    "\n",
    "搞清楚了ASCII、Unicode和UTF-8的关系，我们就可以总结一下现在计算机系统通用的字符编码工作方式：\n",
    "\n",
    "*在计算机内存中，统一使用Unicode编码，当需要保存到硬盘或者需要传输的时候，就转换为UTF-8编码。*\n",
    "\n",
    "用记事本编辑的时候，从文件读取的UTF-8字符被转换为Unicode字符到内存里，编辑完成后，保存的时候再把Unicode转换为UTF-8保存到文件：\n",
    "\n",
    "![Figure 3.5](https://static.liaoxuefeng.com/files/attachments/923923787018816/0)\n",
    "\n",
    "浏览网页的时候，服务器会把动态生成的Unicode内容转换为UTF-8再传输到浏览器：\n",
    "\n",
    "![Figure 3.6](https://static.liaoxuefeng.com/files/attachments/923923759189600/0)\n",
    "\n",
    "所以你看到很多网页的源码上会有类似<meta charset=\"UTF-8\" />的信息，表示该网页正是用的UTF-8编码。"
   ]
  },
  {
   "cell_type": "markdown",
   "metadata": {},
   "source": [
    "### Python的字符串"
   ]
  },
  {
   "cell_type": "markdown",
   "metadata": {},
   "source": [
    "搞清楚了令人头疼的字符编码问题后，我们再来研究Python的字符串。\n",
    "\n",
    "在最新的Python 3版本中，*字符串是以Unicode编码的，*也就是说，Python的字符串支持多语言，例如："
   ]
  },
  {
   "cell_type": "code",
   "execution_count": 36,
   "metadata": {},
   "outputs": [
    {
     "name": "stdout",
     "output_type": "stream",
     "text": [
      "包含中文的str\n"
     ]
    }
   ],
   "source": [
    "print('包含中文的str')"
   ]
  },
  {
   "cell_type": "markdown",
   "metadata": {},
   "source": [
    "**对于单个字符的编码，Python提供了```ord()```函数获取字符的整数表示，```chr()```函数把编码转换为对应的字符**："
   ]
  },
  {
   "cell_type": "code",
   "execution_count": 37,
   "metadata": {},
   "outputs": [
    {
     "data": {
      "text/plain": [
       "65"
      ]
     },
     "execution_count": 37,
     "metadata": {},
     "output_type": "execute_result"
    }
   ],
   "source": [
    "ord('A')"
   ]
  },
  {
   "cell_type": "code",
   "execution_count": 38,
   "metadata": {},
   "outputs": [
    {
     "data": {
      "text/plain": [
       "20013"
      ]
     },
     "execution_count": 38,
     "metadata": {},
     "output_type": "execute_result"
    }
   ],
   "source": [
    "ord('中')"
   ]
  },
  {
   "cell_type": "code",
   "execution_count": 39,
   "metadata": {},
   "outputs": [
    {
     "data": {
      "text/plain": [
       "'B'"
      ]
     },
     "execution_count": 39,
     "metadata": {},
     "output_type": "execute_result"
    }
   ],
   "source": [
    "chr(66)"
   ]
  },
  {
   "cell_type": "code",
   "execution_count": 40,
   "metadata": {},
   "outputs": [
    {
     "data": {
      "text/plain": [
       "'文'"
      ]
     },
     "execution_count": 40,
     "metadata": {},
     "output_type": "execute_result"
    }
   ],
   "source": [
    "chr(25991)"
   ]
  },
  {
   "cell_type": "markdown",
   "metadata": {},
   "source": [
    "如果知道字符的整数编码，还可以用十六进制这么写```str```："
   ]
  },
  {
   "cell_type": "code",
   "execution_count": 41,
   "metadata": {},
   "outputs": [
    {
     "data": {
      "text/plain": [
       "'中文'"
      ]
     },
     "execution_count": 41,
     "metadata": {},
     "output_type": "execute_result"
    }
   ],
   "source": [
    "'\\u4e2d\\u6587'"
   ]
  },
  {
   "cell_type": "markdown",
   "metadata": {},
   "source": [
    "两种写法完全是等价的。\n",
    "\n",
    "**由于Python的字符串类型是```str```，在内存中以Unicode表示，一个字符对应若干个字节。**如果要在网络上传输，或者保存到磁盘上，就需要把```str```变为以字节为单位的```bytes```。\n",
    "\n",
    "**Python对bytes类型的数据用带```b```前缀的单引号或双引号表示**："
   ]
  },
  {
   "cell_type": "code",
   "execution_count": 43,
   "metadata": {},
   "outputs": [],
   "source": [
    "x = b'ABC'"
   ]
  },
  {
   "cell_type": "markdown",
   "metadata": {},
   "source": [
    "要注意区分```'ABC'```和```b'ABC'```，前者是```str```，后者虽然内容显示得和前者一样，但```bytes```的每个字符都只占用一个字节。\n",
    "\n",
    "以Unicode表示的```str```通过```encode()```方法可以编码为指定的```bytes```，例如："
   ]
  },
  {
   "cell_type": "code",
   "execution_count": 44,
   "metadata": {},
   "outputs": [
    {
     "data": {
      "text/plain": [
       "b'ABC'"
      ]
     },
     "execution_count": 44,
     "metadata": {},
     "output_type": "execute_result"
    }
   ],
   "source": [
    "'ABC'.encode('ascii')"
   ]
  },
  {
   "cell_type": "code",
   "execution_count": 45,
   "metadata": {},
   "outputs": [
    {
     "data": {
      "text/plain": [
       "b'\\xe4\\xb8\\xad\\xe6\\x96\\x87'"
      ]
     },
     "execution_count": 45,
     "metadata": {},
     "output_type": "execute_result"
    }
   ],
   "source": [
    "'中文'.encode('utf-8')"
   ]
  },
  {
   "cell_type": "code",
   "execution_count": 46,
   "metadata": {},
   "outputs": [
    {
     "ename": "UnicodeEncodeError",
     "evalue": "'ascii' codec can't encode characters in position 0-1: ordinal not in range(128)",
     "output_type": "error",
     "traceback": [
      "\u001b[1;31m---------------------------------------------------------------------------\u001b[0m",
      "\u001b[1;31mUnicodeEncodeError\u001b[0m                        Traceback (most recent call last)",
      "\u001b[1;32m<ipython-input-46-76f41cd8dafa>\u001b[0m in \u001b[0;36m<module>\u001b[1;34m\u001b[0m\n\u001b[1;32m----> 1\u001b[1;33m \u001b[1;34m'中文'\u001b[0m\u001b[1;33m.\u001b[0m\u001b[0mencode\u001b[0m\u001b[1;33m(\u001b[0m\u001b[1;34m'ascii'\u001b[0m\u001b[1;33m)\u001b[0m\u001b[1;33m\u001b[0m\u001b[1;33m\u001b[0m\u001b[0m\n\u001b[0m",
      "\u001b[1;31mUnicodeEncodeError\u001b[0m: 'ascii' codec can't encode characters in position 0-1: ordinal not in range(128)"
     ]
    }
   ],
   "source": [
    "'中文'.encode('ascii')"
   ]
  },
  {
   "cell_type": "markdown",
   "metadata": {},
   "source": [
    "纯英文的```str```可以用ASCII编码为bytes，内容是一样的，含有中文的str可以用UTF-8编码为```bytes```。含有中文的```str```无法用ASCII编码，因为中文编码的范围超过了ASCII编码的范围，Python会报错。\n",
    "\n",
    "*在```bytes```中，无法显示为ASCII字符的字节，用```\\x##```显示。*\n",
    "\n",
    "反过来，如果我们从网络或磁盘上读取了字节流，那么读到的数据就是bytes。**要把```bytes```变为```str```，就需要用```decode()```方法**："
   ]
  },
  {
   "cell_type": "code",
   "execution_count": 47,
   "metadata": {},
   "outputs": [
    {
     "data": {
      "text/plain": [
       "'ABC'"
      ]
     },
     "execution_count": 47,
     "metadata": {},
     "output_type": "execute_result"
    }
   ],
   "source": [
    " b'ABC'.decode('ascii')"
   ]
  },
  {
   "cell_type": "code",
   "execution_count": 49,
   "metadata": {},
   "outputs": [
    {
     "data": {
      "text/plain": [
       "'中文'"
      ]
     },
     "execution_count": 49,
     "metadata": {},
     "output_type": "execute_result"
    }
   ],
   "source": [
    "b'\\xe4\\xb8\\xad\\xe6\\x96\\x87'.decode('utf-8')"
   ]
  },
  {
   "cell_type": "markdown",
   "metadata": {},
   "source": [
    "如果```bytes```中包含无法解码的字节，```decode()```方法会报错：\n",
    "\n",
    "```\n",
    "b'\\xe4\\xb8\\xad\\xff'.decode('utf-8')\n",
    "---------------------------------------------------------------------------\n",
    "UnicodeDecodeError                        Traceback (most recent call last)\n",
    "<ipython-input-50-cd8de1b11dcd> in <module>\n",
    "----> 1 b'\\xe4\\xb8\\xad\\xff'.decode('utf-8')\n",
    "\n",
    "UnicodeDecodeError: 'utf-8' codec can't decode byte 0xff in position 3: invalid start byte\n",
    "```"
   ]
  },
  {
   "cell_type": "markdown",
   "metadata": {},
   "source": [
    "**如果```bytes```中只有一小部分无效的字节，可以传入```errors='ignore'```忽略错误的字节**："
   ]
  },
  {
   "cell_type": "code",
   "execution_count": 51,
   "metadata": {},
   "outputs": [
    {
     "data": {
      "text/plain": [
       "'中'"
      ]
     },
     "execution_count": 51,
     "metadata": {},
     "output_type": "execute_result"
    }
   ],
   "source": [
    "b'\\xe4\\xb8\\xad\\xff'.decode('utf-8', errors='ignore')"
   ]
  },
  {
   "cell_type": "markdown",
   "metadata": {},
   "source": [
    "**要计算```str```包含多少个字符，可以用```len()```函数："
   ]
  },
  {
   "cell_type": "code",
   "execution_count": 52,
   "metadata": {},
   "outputs": [
    {
     "data": {
      "text/plain": [
       "3"
      ]
     },
     "execution_count": 52,
     "metadata": {},
     "output_type": "execute_result"
    }
   ],
   "source": [
    "len('ABC')"
   ]
  },
  {
   "cell_type": "code",
   "execution_count": 53,
   "metadata": {},
   "outputs": [
    {
     "data": {
      "text/plain": [
       "2"
      ]
     },
     "execution_count": 53,
     "metadata": {},
     "output_type": "execute_result"
    }
   ],
   "source": [
    "len('中文')"
   ]
  },
  {
   "cell_type": "markdown",
   "metadata": {},
   "source": [
    "**```len()```函数计算的是str的字符数，如果换成```bytes```，len()函数就计算字节数**："
   ]
  },
  {
   "cell_type": "code",
   "execution_count": 54,
   "metadata": {},
   "outputs": [
    {
     "data": {
      "text/plain": [
       "3"
      ]
     },
     "execution_count": 54,
     "metadata": {},
     "output_type": "execute_result"
    }
   ],
   "source": [
    "len(b'ABC')"
   ]
  },
  {
   "cell_type": "code",
   "execution_count": 55,
   "metadata": {},
   "outputs": [
    {
     "data": {
      "text/plain": [
       "6"
      ]
     },
     "execution_count": 55,
     "metadata": {},
     "output_type": "execute_result"
    }
   ],
   "source": [
    "len(b'\\xe4\\xb8\\xad\\xe6\\x96\\x87')"
   ]
  },
  {
   "cell_type": "code",
   "execution_count": 56,
   "metadata": {},
   "outputs": [
    {
     "data": {
      "text/plain": [
       "6"
      ]
     },
     "execution_count": 56,
     "metadata": {},
     "output_type": "execute_result"
    }
   ],
   "source": [
    "len('中文'.encode('utf-8'))"
   ]
  },
  {
   "cell_type": "markdown",
   "metadata": {},
   "source": [
    "可见，1个中文字符经过UTF-8编码后通常会占用3个字节，而1个英文字符只占用1个字节。\n",
    "\n",
    "*在操作字符串时，我们经常遇到```str```和```bytes```的互相转换。为了避免乱码问题，应当始终坚持使用UTF-8编码对```str```和```bytes```进行转换。*\n",
    "\n",
    "由于Python源代码也是一个文本文件，所以，当你的源代码中包含中文的时候，在保存源代码时，就需要务必指定保存为UTF-8编码。当Python解释器读取源代码时，为了让它按UTF-8编码读取，我们通常在文件开头写上这两行：\n",
    "\n",
    "```\n",
    "#!/usr/bin/env python3\n",
    "# -*- coding: utf-8 -*-\n",
    "```\n",
    "\n",
    "第一行注释是为了告诉Linux/OS X系统，这是一个Python可执行程序，Windows系统会忽略这个注释；\n",
    "\n",
    "第二行注释是为了告诉Python解释器，按照UTF-8编码读取源代码，否则，你在源代码中写的中文输出可能会有乱码。\n",
    "\n",
    "申明了UTF-8编码并不意味着你的```.py```文件就是UTF-8编码的，必须并且要确保文本编辑器正在使用UTF-8 without BOM编码：\n",
    "\n",
    "![Figure 3.6](https://static.liaoxuefeng.com/files/attachments/1008802356788736)\n",
    "\n",
    "如果```.py```文件本身使用UTF-8编码，并且也申明了```# -*- coding: utf-8 -*-```，打开命令提示符测试就可以正常显示中文：\n",
    "\n",
    "![Figure 4.7](https://static.liaoxuefeng.com/files/attachments/1008802515054144)"
   ]
  },
  {
   "cell_type": "markdown",
   "metadata": {},
   "source": [
    "### 格式化"
   ]
  },
  {
   "cell_type": "markdown",
   "metadata": {},
   "source": [
    "最后一个常见的问题是如何输出格式化的字符串。我们经常会输出类似```'亲爱的xxx你好！你xx月的话费是xx，余额是xx'```之类的字符串，而```xxx```的内容都是根据变量变化的，所以，需要一种简便的格式化字符串的方式。\n",
    "\n",
    "![Figure 3.8](https://static.liaoxuefeng.com/files/attachments/928817906446432/0)\n",
    "\n",
    "在Python中，采用的格式化方式和C语言是一致的，用```%```实现，举例如下："
   ]
  },
  {
   "cell_type": "code",
   "execution_count": 57,
   "metadata": {},
   "outputs": [
    {
     "data": {
      "text/plain": [
       "'Hello, world'"
      ]
     },
     "execution_count": 57,
     "metadata": {},
     "output_type": "execute_result"
    }
   ],
   "source": [
    "'Hello, %s' % 'world'"
   ]
  },
  {
   "cell_type": "code",
   "execution_count": 58,
   "metadata": {},
   "outputs": [
    {
     "data": {
      "text/plain": [
       "'Hi, Michael, you have $1000000.'"
      ]
     },
     "execution_count": 58,
     "metadata": {},
     "output_type": "execute_result"
    }
   ],
   "source": [
    " 'Hi, %s, you have $%d.' % ('Michael', 1000000)"
   ]
  },
  {
   "cell_type": "markdown",
   "metadata": {},
   "source": [
    "你可能猜到了，**```%```运算符就是用来格式化字符串的。在字符串内部，```%s```表示用字符串替换，```%d```表示用整数替换**，*有几个```%?```占位符，后面就跟几个变量或者值，顺序要对应好。如果只有一个```%?```，括号可以省略。*\n",
    "\n",
    "常见的占位符有：\n",
    "\n",
    "| 占位符   | 替换内容     |\n",
    "|----------|--------------|\n",
    "| ```%d``` | 整数         |\n",
    "| ```%f``` | 浮点数       |\n",
    "| ```%s``` | 字符串       |\n",
    "| ```%x``` | 十六进制整数 |\n",
    "\n",
    "其中，格式化整数和浮点数还可以指定是否补0和整数与小数的位数："
   ]
  },
  {
   "cell_type": "code",
   "execution_count": 59,
   "metadata": {},
   "outputs": [
    {
     "name": "stdout",
     "output_type": "stream",
     "text": [
      " 3-01\n"
     ]
    }
   ],
   "source": [
    "print('%2d-%02d' % (3, 1))"
   ]
  },
  {
   "cell_type": "code",
   "execution_count": 60,
   "metadata": {},
   "outputs": [
    {
     "name": "stdout",
     "output_type": "stream",
     "text": [
      "3.14\n"
     ]
    }
   ],
   "source": [
    "print('%.2f' % 3.1415926)"
   ]
  },
  {
   "cell_type": "markdown",
   "metadata": {},
   "source": [
    "如果你不太确定应该用什么，```%s```永远起作用，它会把任何数据类型转换为字符串："
   ]
  },
  {
   "cell_type": "code",
   "execution_count": 61,
   "metadata": {},
   "outputs": [
    {
     "data": {
      "text/plain": [
       "'Age: 25. Gender: True'"
      ]
     },
     "execution_count": 61,
     "metadata": {},
     "output_type": "execute_result"
    }
   ],
   "source": [
    "'Age: %s. Gender: %s' % (25, True)"
   ]
  },
  {
   "cell_type": "markdown",
   "metadata": {},
   "source": [
    "**有些时候，字符串里面的```%```是一个普通字符怎么办？这个时候就需要转义，用```%%```来表示一个```%```**："
   ]
  },
  {
   "cell_type": "code",
   "execution_count": 62,
   "metadata": {},
   "outputs": [
    {
     "data": {
      "text/plain": [
       "'growth rate: 7 %'"
      ]
     },
     "execution_count": 62,
     "metadata": {},
     "output_type": "execute_result"
    }
   ],
   "source": [
    " 'growth rate: %d %%' % 7"
   ]
  },
  {
   "cell_type": "markdown",
   "metadata": {},
   "source": [
    "#### ```format()```"
   ]
  },
  {
   "cell_type": "markdown",
   "metadata": {},
   "source": [
    "另一种格式化字符串的方法是使用字符串的```format()```方法，它会用传入的参数依次替换字符串内的占位符```{0}```、```{1}```……，不过这种方式写起来比```%```要麻烦得多："
   ]
  },
  {
   "cell_type": "code",
   "execution_count": 63,
   "metadata": {},
   "outputs": [
    {
     "data": {
      "text/plain": [
       "'Hello, 小明, 成绩提升了 17.1%'"
      ]
     },
     "execution_count": 63,
     "metadata": {},
     "output_type": "execute_result"
    }
   ],
   "source": [
    "'Hello, {0}, 成绩提升了 {1:.1f}%'.format('小明', 17.125)"
   ]
  },
  {
   "cell_type": "markdown",
   "metadata": {},
   "source": [
    "|数字\t|格式\t|输出\t|描述|\n",
    "|-----|-----|----|----|\n",
    "|3.1415926|\t{:.2f}|\t3.14|\t保留小数点后两位|\n",
    "|3.1415926|\t{:+.2f}|\t+3.14|\t带符号保留小数点后两位|\n",
    "|-1|\t{:+.2f}|\t-1.00|\t带符号保留小数点后两位|\n",
    "|2.71828|\t{:.0f}|\t3|\t不带小数|\n",
    "|5|\t{:0>2d}|\t05|\t数字补零 (填充左边, 宽度为2)|\n",
    "|5|\t{:x<4d}|\t5xxx|\t数字补x (填充右边, 宽度为4)|\n",
    "|10|\t{:x<4d}|\t10xx|\t数字补x (填充右边, 宽度为4)|\n",
    "|1000000|\t{:,}|\t1,000,000|\t以逗号分隔的数字格式|\n",
    "|0.25|\t{:.2%}|\t25.00%|\t百分比格式|\n",
    "|1000000000|\t{:.2e}|\t1.00e+09|\t指数记法|\n",
    "|13|\t{:>10d}|\t        13|\t右对齐 (默认, 宽度为10)|\n",
    "|13|\t{:<10d}|\t13|\t左对齐 (宽度为10)|\n",
    "|13|\t{:^10d}|    13|\t中间对齐 (宽度为10)|\n",
    "|11\t|```'{:b}'.format(11)   '{:d}'.format(11)   '{:o}'.format(11)   '{:x}'.format(11)'   {:#x}'.format(11)   '{:#X}'.format(11)```|```1011   11   13   b   0xb   0XB```|进制|\n",
    "\n",
    "```^```, ```<```, ```>``` 分别是居中、左对齐、右对齐，后面带宽度， ```:``` 号后面带填充的字符，只能是一个字符，不指定则默认是用空格填充。\n",
    "\n",
    "```+``` 表示在正数前显示 ```+```，负数前显示 ```-```； ``` ```（空格）表示在正数前加空格\n",
    "\n",
    "```b```、```d```、```o```、```x``` 分别是二进制、十进制、八进制、十六进制。\n",
    "\n",
    "此外我们可以使用大括号 ```{}``` 来转义大括号，如下实例："
   ]
  },
  {
   "cell_type": "code",
   "execution_count": 70,
   "metadata": {},
   "outputs": [
    {
     "name": "stdout",
     "output_type": "stream",
     "text": [
      "runoob 对应的位置是 {0}\n"
     ]
    }
   ],
   "source": [
    "print (\"{} 对应的位置是 {{0}}\".format(\"runoob\"))"
   ]
  },
  {
   "cell_type": "markdown",
   "metadata": {},
   "source": [
    "#### ```f-string```"
   ]
  },
  {
   "cell_type": "markdown",
   "metadata": {},
   "source": [
    "**最后一种格式化字符串的方法是使用以```f```开头的字符串，称之为```f-string```，它和普通字符串不同之处在于，字符串如果包含```{xxx}```，就会以对应的变量替换**："
   ]
  },
  {
   "cell_type": "code",
   "execution_count": 65,
   "metadata": {},
   "outputs": [
    {
     "name": "stdout",
     "output_type": "stream",
     "text": [
      "The area of a circle with radius 2.5 is 19.62\n"
     ]
    }
   ],
   "source": [
    "r = 2.5\n",
    "s = 3.14 * r ** 2\n",
    "print(f'The area of a circle with radius {r} is {s:.2f}')"
   ]
  },
  {
   "cell_type": "markdown",
   "metadata": {},
   "source": [
    "上述代码中，```{r}```被变量```r```的值替换，```{s:.2f}```被变量```s```的值替换，并且```:```后面的```.2f```指定了格式化参数（即保留两位小数），因此，```{s:.2f}```的替换结果是```19.62```。"
   ]
  },
  {
   "cell_type": "markdown",
   "metadata": {},
   "source": [
    "### 练习"
   ]
  },
  {
   "cell_type": "markdown",
   "metadata": {},
   "source": [
    "小明的成绩从去年的72分提升到了今年的85分，请计算小明成绩提升的百分点，并用字符串格式化显示出'xx.x%'，只保留小数点后1位："
   ]
  },
  {
   "cell_type": "code",
   "execution_count": 69,
   "metadata": {},
   "outputs": [
    {
     "name": "stdout",
     "output_type": "stream",
     "text": [
      "18.1%\n"
     ]
    }
   ],
   "source": [
    "grade_last_year = 72\n",
    "grade_this_year = 85\n",
    "change = grade_this_year - grade_last_year\n",
    "change_rate = change / grade_last_year\n",
    "change_percent = change_rate * 100\n",
    "print('%2.1f%%' % change_percent)"
   ]
  },
  {
   "cell_type": "markdown",
   "metadata": {},
   "source": [
    "### 小结"
   ]
  },
  {
   "cell_type": "markdown",
   "metadata": {},
   "source": [
    "Python 3的字符串使用Unicode，直接支持多语言。\n",
    "\n",
    "当```str```和```bytes```互相转换时，需要指定编码。最常用的编码是UTF-8。Python当然也支持其他编码方式，比如把Unicode编码成GB2312：\n",
    "\n",
    "```\n",
    ">>> '中文'.encode('gb2312')\n",
    "b'\\xd6\\xd0\\xce\\xc4'\n",
    "```\n",
    "\n",
    "但这种方式纯属自找麻烦，如果没有特殊业务要求，请牢记仅使用UTF-8编码。\n",
    "\n",
    "格式化字符串的时候，可以用Python的交互式环境测试，方便快捷。"
   ]
  },
  {
   "cell_type": "markdown",
   "metadata": {},
   "source": []
  },
  {
   "cell_type": "markdown",
   "metadata": {},
   "source": [
    "## 使用 ```list``` 和 ```tuple```"
   ]
  },
  {
   "cell_type": "markdown",
   "metadata": {},
   "source": [
    "### ```list```"
   ]
  },
  {
   "cell_type": "markdown",
   "metadata": {},
   "source": [
    "**Python内置的一种数据类型是列表：```list```。```list```是一种有序的集合，可以随时添加和删除其中的元素。**\n",
    "\n",
    "比如，列出班里所有同学的名字，就可以用一个```list```表示："
   ]
  },
  {
   "cell_type": "code",
   "execution_count": 16,
   "metadata": {},
   "outputs": [
    {
     "name": "stdout",
     "output_type": "stream",
     "text": [
      "['Michael', 'Bob', 'Tracy']\n"
     ]
    }
   ],
   "source": [
    "classmates = ['Michael', 'Bob', 'Tracy']\n",
    "print(classmates)"
   ]
  },
  {
   "cell_type": "markdown",
   "metadata": {},
   "source": [
    "变量```classmates```就是一个```list```。用```len()```函数可以获得```list```元素的个数："
   ]
  },
  {
   "cell_type": "code",
   "execution_count": 17,
   "metadata": {},
   "outputs": [
    {
     "data": {
      "text/plain": [
       "3"
      ]
     },
     "execution_count": 17,
     "metadata": {},
     "output_type": "execute_result"
    }
   ],
   "source": [
    "len(classmates)"
   ]
  },
  {
   "cell_type": "markdown",
   "metadata": {},
   "source": [
    "用索引来访问```list```中每一个位置的元素，*记得索引是从```0```开始的*："
   ]
  },
  {
   "cell_type": "code",
   "execution_count": 18,
   "metadata": {},
   "outputs": [
    {
     "data": {
      "text/plain": [
       "'Michael'"
      ]
     },
     "execution_count": 18,
     "metadata": {},
     "output_type": "execute_result"
    }
   ],
   "source": [
    "classmates[0]"
   ]
  },
  {
   "cell_type": "code",
   "execution_count": 19,
   "metadata": {},
   "outputs": [
    {
     "data": {
      "text/plain": [
       "'Bob'"
      ]
     },
     "execution_count": 19,
     "metadata": {},
     "output_type": "execute_result"
    }
   ],
   "source": [
    "classmates[1]"
   ]
  },
  {
   "cell_type": "code",
   "execution_count": 20,
   "metadata": {},
   "outputs": [
    {
     "data": {
      "text/plain": [
       "'Tracy'"
      ]
     },
     "execution_count": 20,
     "metadata": {},
     "output_type": "execute_result"
    }
   ],
   "source": [
    "classmates[2]"
   ]
  },
  {
   "cell_type": "markdown",
   "metadata": {},
   "source": [
    "当索引超出了范围时，Python会报一个```IndexError```错误，所以，要确保索引不要越界，*记得最后一个元素的索引是```len(classmates) - 1```。*\n",
    "\n",
    "*如果要取最后一个元素，除了计算索引位置外，还可以用```-1```做索引，直接获取最后一个元素：*"
   ]
  },
  {
   "cell_type": "code",
   "execution_count": 21,
   "metadata": {},
   "outputs": [
    {
     "data": {
      "text/plain": [
       "'Tracy'"
      ]
     },
     "execution_count": 21,
     "metadata": {},
     "output_type": "execute_result"
    }
   ],
   "source": [
    "classmates[-1]"
   ]
  },
  {
   "cell_type": "markdown",
   "metadata": {},
   "source": [
    "以此类推，可以获取倒数第2个、倒数第3个："
   ]
  },
  {
   "cell_type": "code",
   "execution_count": 22,
   "metadata": {},
   "outputs": [
    {
     "data": {
      "text/plain": [
       "'Bob'"
      ]
     },
     "execution_count": 22,
     "metadata": {},
     "output_type": "execute_result"
    }
   ],
   "source": [
    "classmates[-2]"
   ]
  },
  {
   "cell_type": "code",
   "execution_count": 23,
   "metadata": {},
   "outputs": [
    {
     "data": {
      "text/plain": [
       "'Michael'"
      ]
     },
     "execution_count": 23,
     "metadata": {},
     "output_type": "execute_result"
    }
   ],
   "source": [
    "classmates[-3]"
   ]
  },
  {
   "cell_type": "markdown",
   "metadata": {},
   "source": [
    "当然，倒数第4个就越界了。\n",
    "\n",
    "*```list```是一个可变的有序表*，所以，**可以往```list```中追加元素到末尾**："
   ]
  },
  {
   "cell_type": "code",
   "execution_count": 24,
   "metadata": {},
   "outputs": [
    {
     "name": "stdout",
     "output_type": "stream",
     "text": [
      "['Michael', 'Bob', 'Tracy', 'Adam']\n"
     ]
    }
   ],
   "source": [
    "classmates.append('Adam')\n",
    "print(classmates)"
   ]
  },
  {
   "cell_type": "markdown",
   "metadata": {},
   "source": [
    "**也可以把元素插入到指定的位置，比如索引号为```1```的位置**："
   ]
  },
  {
   "cell_type": "code",
   "execution_count": 25,
   "metadata": {},
   "outputs": [
    {
     "name": "stdout",
     "output_type": "stream",
     "text": [
      "['Michael', 'Jack', 'Bob', 'Tracy', 'Adam']\n"
     ]
    }
   ],
   "source": [
    "classmates.insert(1, 'Jack')\n",
    "print(classmates)"
   ]
  },
  {
   "cell_type": "markdown",
   "metadata": {},
   "source": [
    "**要删除```list```末尾的元素，用```pop()```方法**："
   ]
  },
  {
   "cell_type": "code",
   "execution_count": 26,
   "metadata": {},
   "outputs": [
    {
     "name": "stdout",
     "output_type": "stream",
     "text": [
      "['Michael', 'Jack', 'Bob', 'Tracy']\n"
     ]
    }
   ],
   "source": [
    "classmates.pop()\n",
    "print(classmates)"
   ]
  },
  {
   "cell_type": "markdown",
   "metadata": {},
   "source": [
    "**要删除指定位置的元素，用pop(i)方法，其中i是索引位置**："
   ]
  },
  {
   "cell_type": "code",
   "execution_count": 27,
   "metadata": {},
   "outputs": [
    {
     "name": "stdout",
     "output_type": "stream",
     "text": [
      "['Michael', 'Bob', 'Tracy']\n"
     ]
    }
   ],
   "source": [
    "classmates.pop(1)\n",
    "print(classmates)"
   ]
  },
  {
   "cell_type": "markdown",
   "metadata": {},
   "source": [
    "**要把某个元素替换成别的元素，可以直接赋值给对应的索引位置**："
   ]
  },
  {
   "cell_type": "code",
   "execution_count": 28,
   "metadata": {},
   "outputs": [
    {
     "name": "stdout",
     "output_type": "stream",
     "text": [
      "['Michael', 'Sarah', 'Tracy']\n"
     ]
    }
   ],
   "source": [
    "classmates[1] = 'Sarah'\n",
    "print(classmates)"
   ]
  },
  {
   "cell_type": "markdown",
   "metadata": {},
   "source": [
    "```list```里面的元素的数据类型也可以不同，比如："
   ]
  },
  {
   "cell_type": "code",
   "execution_count": 29,
   "metadata": {},
   "outputs": [],
   "source": [
    " L = ['Apple', 123, True]"
   ]
  },
  {
   "cell_type": "markdown",
   "metadata": {},
   "source": [
    "```list```元素也可以是另一个```list```，比如："
   ]
  },
  {
   "cell_type": "code",
   "execution_count": 31,
   "metadata": {},
   "outputs": [
    {
     "name": "stdout",
     "output_type": "stream",
     "text": [
      "4\n"
     ]
    }
   ],
   "source": [
    "s = ['python', 'java', ['asp', 'php'], 'scheme']\n",
    "print(len(s))"
   ]
  },
  {
   "cell_type": "markdown",
   "metadata": {},
   "source": [
    "要注意```s```只有4个元素，其中```s[2]```又是一个```list```，如果拆开写就更容易理解了："
   ]
  },
  {
   "cell_type": "code",
   "execution_count": 33,
   "metadata": {},
   "outputs": [],
   "source": [
    "p = ['asp', 'php']\n",
    "s = ['python', 'java', p, 'scheme']"
   ]
  },
  {
   "cell_type": "markdown",
   "metadata": {},
   "source": [
    "要拿到```'php'```可以写```p[1]```或者```s[2][1]```，因此s可以看成是一个二维数组，类似的还有三维、四维……数组，不过很少用到。\n",
    "\n",
    "**如果一个```list```中一个元素也没有，就是一个空的```list```，它的长度为0**："
   ]
  },
  {
   "cell_type": "code",
   "execution_count": 34,
   "metadata": {},
   "outputs": [
    {
     "name": "stdout",
     "output_type": "stream",
     "text": [
      "0\n"
     ]
    }
   ],
   "source": [
    "L = []\n",
    "print(len(L))"
   ]
  },
  {
   "cell_type": "markdown",
   "metadata": {},
   "source": [
    "### ```tuple```"
   ]
  },
  {
   "cell_type": "markdown",
   "metadata": {},
   "source": [
    "**另一种有序列表叫元组：```tuple```。```tuple```和```list```非常类似，但是```tuple```一旦初始化就不能修改**，比如同样是列出同学的名字："
   ]
  },
  {
   "cell_type": "code",
   "execution_count": 35,
   "metadata": {},
   "outputs": [],
   "source": [
    "classmates = ('Michael', 'Bob', 'Tracy')"
   ]
  },
  {
   "cell_type": "markdown",
   "metadata": {},
   "source": [
    "现在，```classmates```这个```tuple```不能变了，它也没有```append()```，```insert()```这样的方法。其他获取元素的方法和list是一样的，你可以正常地使用```classmates[0]```，```classmates[-1]```，但不能赋值成另外的元素。\n",
    "\n",
    "*不可变的```tuple```有什么意义？因为```tuple```不可变，所以代码更安全。如果可能，能用```tuple```代替```list```就尽量用```tuple```。*\n",
    "\n",
    "*```tuple```的陷阱：当你定义一个```tuple```时，在定义的时候，```tuple```的元素就必须被确定下来*，比如："
   ]
  },
  {
   "cell_type": "code",
   "execution_count": 36,
   "metadata": {},
   "outputs": [
    {
     "name": "stdout",
     "output_type": "stream",
     "text": [
      "(1, 2)\n"
     ]
    }
   ],
   "source": [
    "t = (1, 2)\n",
    "print(t)"
   ]
  },
  {
   "cell_type": "markdown",
   "metadata": {},
   "source": [
    "**如果要定义一个空的```tuple```，可以写成```()```**："
   ]
  },
  {
   "cell_type": "code",
   "execution_count": 37,
   "metadata": {},
   "outputs": [
    {
     "name": "stdout",
     "output_type": "stream",
     "text": [
      "()\n"
     ]
    }
   ],
   "source": [
    "t = ()\n",
    "print(t)"
   ]
  },
  {
   "cell_type": "markdown",
   "metadata": {},
   "source": [
    "但是，要定义一个只有1个元素的```tuple```，如果你这么定义："
   ]
  },
  {
   "cell_type": "code",
   "execution_count": 38,
   "metadata": {},
   "outputs": [
    {
     "name": "stdout",
     "output_type": "stream",
     "text": [
      "1\n"
     ]
    }
   ],
   "source": [
    "t = (1)\n",
    "print(t)"
   ]
  },
  {
   "cell_type": "markdown",
   "metadata": {},
   "source": [
    "定义的不是```tuple```，是```1```这个数！这是因为括号```()```既可以表示```tuple```，又可以表示数学公式中的小括号，这就产生了歧义，因此，Python规定，这种情况下，按小括号进行计算，计算结果自然是```1```。\n",
    "\n",
    "所以，*只有1个元素的```tuple```定义时必须加一个逗号```,```，来消除歧义*："
   ]
  },
  {
   "cell_type": "code",
   "execution_count": 39,
   "metadata": {},
   "outputs": [
    {
     "name": "stdout",
     "output_type": "stream",
     "text": [
      "(1,)\n"
     ]
    }
   ],
   "source": [
    "t = (1,)\n",
    "print(t)"
   ]
  },
  {
   "cell_type": "markdown",
   "metadata": {},
   "source": [
    "Python在显示只有1个元素的```tuple```时，也会加一个逗号```,```，以免你误解成数学计算意义上的括号。\n",
    "\n",
    "最后来看一个“可变的”```tuple```："
   ]
  },
  {
   "cell_type": "code",
   "execution_count": 40,
   "metadata": {},
   "outputs": [
    {
     "name": "stdout",
     "output_type": "stream",
     "text": [
      "('a', 'b', ['A', 'B'])\n"
     ]
    }
   ],
   "source": [
    "t = ('a', 'b', ['A', 'B'])\n",
    "print(t)"
   ]
  },
  {
   "cell_type": "code",
   "execution_count": 41,
   "metadata": {},
   "outputs": [
    {
     "name": "stdout",
     "output_type": "stream",
     "text": [
      "('a', 'b', ['X', 'Y'])\n"
     ]
    }
   ],
   "source": [
    "t[2][0] = 'X'\n",
    "t[2][1] = 'Y'\n",
    "print(t)"
   ]
  },
  {
   "cell_type": "markdown",
   "metadata": {},
   "source": [
    "这个```tuple```定义的时候有3个元素，分别是```'a'```，```'b'```和一个```list```。不是说```tuple```一旦定义后就不可变了吗？怎么后来又变了？\n",
    "\n",
    "别急，我们先看看定义的时候```tuple```包含的3个元素：\n",
    "\n",
    "![Figure 3.7](https://static.liaoxuefeng.com/files/attachments/923973516787680/0)\n",
    "\n",
    "当我们把```list```的元素```'A'```和```'B'```修改为```'X'```和```'Y'```后，```tuple```变为：\n",
    "\n",
    "![Figure 3.8](https://static.liaoxuefeng.com/files/attachments/923973647515872/0)\n",
    "\n",
    "*表面上看，```tuple```的元素确实变了，但其实变的不是```tuple```的元素，而是```list```的元素。```tuple```一开始指向的```list```并没有改成别的```list```，所以，```tuple```所谓的“不变”是说，```tuple```的每个元素，指向永远不变。即指向```'a'```，就不能改成指向```'b'```，指向一个```list```，就不能改成指向其他对象，但指向的这个```list```本身是可变的！*\n",
    "\n",
    "理解了“指向不变”后，要创建一个内容也不变的tuple怎么做？那就必须保证tuple的每一个元素本身也不能变。"
   ]
  },
  {
   "cell_type": "markdown",
   "metadata": {},
   "source": [
    "### 练习"
   ]
  },
  {
   "cell_type": "markdown",
   "metadata": {},
   "source": [
    "请用索引取出下面list的指定元素：\n",
    "\n",
    "```\n",
    "L = [\n",
    "    ['Apple', 'Google', 'Microsoft'],\n",
    "    ['Java', 'Python', 'Ruby', 'PHP'],\n",
    "    ['Adam', 'Bart', 'Lisa']\n",
    "]\n",
    "```"
   ]
  },
  {
   "cell_type": "code",
   "execution_count": 45,
   "metadata": {},
   "outputs": [
    {
     "name": "stdout",
     "output_type": "stream",
     "text": [
      "Apple\n",
      "Python\n",
      "Lisa\n"
     ]
    }
   ],
   "source": [
    "L = [\n",
    "    ['Apple', 'Google', 'Microsoft'],\n",
    "    ['Java', 'Python', 'Ruby', 'PHP'],\n",
    "    ['Adam', 'Bart', 'Lisa']\n",
    "]\n",
    "\n",
    "# 打印Apple:\n",
    "print(L[0][0])\n",
    "# 打印Python:\n",
    "print(L[1][1])\n",
    "# 打印Lisa:\n",
    "print(L[-1][-1])"
   ]
  },
  {
   "cell_type": "markdown",
   "metadata": {},
   "source": [
    "请问以下变量哪些是tuple类型：\n",
    "\n",
    "- [x] a = ()\n",
    "- [ ] b = (1)\n",
    "- [ ] c = [2]\n",
    "- [x] d = (3,)\n",
    "- [x] e = (4,5,6)"
   ]
  },
  {
   "cell_type": "markdown",
   "metadata": {},
   "source": [
    "### 小结"
   ]
  },
  {
   "cell_type": "markdown",
   "metadata": {},
   "source": [
    "```list```和```tuple```是Python内置的有序集合，一个可变，一个不可变。根据需要来选择使用它们。"
   ]
  },
  {
   "cell_type": "markdown",
   "metadata": {},
   "source": []
  },
  {
   "cell_type": "markdown",
   "metadata": {},
   "source": [
    "## 条件判断"
   ]
  },
  {
   "cell_type": "markdown",
   "metadata": {},
   "source": [
    "计算机之所以能做很多自动化的任务，因为它可以自己做条件判断。\n",
    "\n",
    "比如，输入用户年龄，根据年龄打印不同的内容，在Python程序中，用```if```语句实现："
   ]
  },
  {
   "cell_type": "code",
   "execution_count": 1,
   "metadata": {},
   "outputs": [
    {
     "name": "stdout",
     "output_type": "stream",
     "text": [
      "your age is 20\n",
      "adult\n"
     ]
    }
   ],
   "source": [
    "age = 20\n",
    "if age >= 18:\n",
    "    print('your age is', age)\n",
    "    print('adult')"
   ]
  },
  {
   "cell_type": "markdown",
   "metadata": {},
   "source": [
    "根据Python的缩进规则，如果```if```语句判断是```True```，就把缩进的两行```print```语句执行了，否则，什么也不做。\n",
    "\n",
    "也可以给```if```添加一个```else```语句，意思是，如果```if```判断是```False```，不要执行```if```的内容，去把```else```执行了："
   ]
  },
  {
   "cell_type": "code",
   "execution_count": 2,
   "metadata": {},
   "outputs": [
    {
     "name": "stdout",
     "output_type": "stream",
     "text": [
      "your age is 3\n",
      "teenager\n"
     ]
    }
   ],
   "source": [
    "age = 3\n",
    "if age >= 18:\n",
    "    print('your age is', age)\n",
    "    print('adult')\n",
    "else:\n",
    "    print('your age is', age)\n",
    "    print('teenager')"
   ]
  },
  {
   "cell_type": "markdown",
   "metadata": {},
   "source": [
    "注意不要少写了冒号```:```。\n",
    "\n",
    "当然上面的判断是很粗略的，完全可以用```elif```做更细致的判断："
   ]
  },
  {
   "cell_type": "code",
   "execution_count": 3,
   "metadata": {},
   "outputs": [
    {
     "name": "stdout",
     "output_type": "stream",
     "text": [
      "kid\n"
     ]
    }
   ],
   "source": [
    "age = 3\n",
    "if age >= 18:\n",
    "    print('adult')\n",
    "elif age >= 6:\n",
    "    print('teenager')\n",
    "else:\n",
    "    print('kid')"
   ]
  },
  {
   "cell_type": "markdown",
   "metadata": {},
   "source": [
    "```elif```是```else if```的缩写，完全可以有多个```elif```，所以```if```语句的完整形式就是：\n",
    "\n",
    "```\n",
    "if <条件判断1>:\n",
    "    <执行1>\n",
    "elif <条件判断2>:\n",
    "    <执行2>\n",
    "elif <条件判断3>:\n",
    "    <执行3>\n",
    "else:\n",
    "    <执行4>\n",
    "```"
   ]
  },
  {
   "cell_type": "markdown",
   "metadata": {},
   "source": [
    "*```if```语句执行有个特点，它是从上往下判断，如果在某个判断上是```True```，把该判断对应的语句执行后，就忽略掉剩下的```elif```和```else```*，所以，请测试并解释为什么下面的程序打印的是teenager："
   ]
  },
  {
   "cell_type": "code",
   "execution_count": 4,
   "metadata": {},
   "outputs": [
    {
     "name": "stdout",
     "output_type": "stream",
     "text": [
      "teenager\n"
     ]
    }
   ],
   "source": [
    "age = 20\n",
    "if age >= 6:\n",
    "    print('teenager')\n",
    "elif age >= 18:\n",
    "    print('adult')\n",
    "else:\n",
    "    print('kid')"
   ]
  },
  {
   "cell_type": "markdown",
   "metadata": {},
   "source": [
    "```if```判断条件还可以简写，比如写：\n",
    "\n",
    "```\n",
    "if x:\n",
    "    print('True')\n",
    "```\n",
    "\n",
    "只要```x```是非零数值、非空字符串、非空```list```等，就判断为```True```，否则为```False```。"
   ]
  },
  {
   "cell_type": "markdown",
   "metadata": {},
   "source": [
    "### 再议 ```input()```"
   ]
  },
  {
   "cell_type": "markdown",
   "metadata": {},
   "source": [
    "最后看一个有问题的条件判断。很多同学会用```input()```读取用户的输入，这样可以自己输入，程序运行得更有意思：\n",
    "\n",
    "```\n",
    "birth = int(input('birth: '))\n",
    "if birth < 2000:\n",
    "    print('00前')\n",
    "else:\n",
    "    print('00后')\n",
    "```\n",
    "\n",
    "输入```1982```，结果报错：\n",
    "\n",
    "```\n",
    "Traceback (most recent call last):\n",
    "  File \"<stdin>\", line 1, in <module>\n",
    "TypeError: unorderable types: str() > int()\n",
    "```\n",
    "\n",
    "*这是因为```input()```返回的数据类型是```str```，```str```不能直接和整数比较，必须先把```str```转换成整数。Python提供了```int()```函数来完成这件事情*："
   ]
  },
  {
   "cell_type": "code",
   "execution_count": 8,
   "metadata": {},
   "outputs": [
    {
     "name": "stdout",
     "output_type": "stream",
     "text": [
      "birth: 1998\n",
      "00前\n"
     ]
    }
   ],
   "source": [
    "birth = int(input('birth: '))\n",
    "if birth < 2000:\n",
    "    print('00前')\n",
    "else:\n",
    "    print('00后')"
   ]
  },
  {
   "cell_type": "markdown",
   "metadata": {},
   "source": [
    "再次运行，就可以得到正确地结果。但是，如果输入```abc```呢？又会得到一个错误信息：\n",
    "\n",
    "```\n",
    "Traceback (most recent call last):\n",
    "  File \"<stdin>\", line 1, in <module>\n",
    "ValueError: invalid literal for int() with base 10: 'abc'\n",
    "```\n",
    "\n",
    "原来```int()```函数发现一个字符串并不是合法的数字时就会报错，程序就退出了。\n",
    "\n",
    "如何检查并捕获程序运行期的错误呢？后面的错误和调试会讲到。"
   ]
  },
  {
   "cell_type": "markdown",
   "metadata": {},
   "source": [
    "### 练习"
   ]
  },
  {
   "cell_type": "markdown",
   "metadata": {},
   "source": [
    "小明身高1.75，体重80.5kg。请根据BMI公式（体重除以身高的平方）帮小明计算他的BMI指数，并根据BMI指数：\n",
    "\n",
    "- 低于18.5：过轻\n",
    "- 18.5-25：正常\n",
    "- 25-28：过重\n",
    "- 28-32：肥胖\n",
    "- 高于32：严重肥胖\n",
    "\n",
    "用```if```-```elif```判断并打印结果："
   ]
  },
  {
   "cell_type": "code",
   "execution_count": 9,
   "metadata": {},
   "outputs": [
    {
     "name": "stdout",
     "output_type": "stream",
     "text": [
      "过重\n"
     ]
    }
   ],
   "source": [
    "height = 1.75\n",
    "weight = 80.5\n",
    "\n",
    "BMI = weight / (height**2)\n",
    "\n",
    "if BMI < 18.5:\n",
    "    print(\"过轻\")\n",
    "elif BMI <= 25:\n",
    "    print(\"正常\")\n",
    "elif BMI <= 28:\n",
    "    print(\"过重\")\n",
    "elif BMI <= 32:\n",
    "    print(\"肥胖\")\n",
    "else:\n",
    "    print(\"严重肥胖\")"
   ]
  },
  {
   "cell_type": "markdown",
   "metadata": {},
   "source": [
    "### 小结"
   ]
  },
  {
   "cell_type": "markdown",
   "metadata": {},
   "source": [
    "条件判断可以让计算机自己做选择，Python的```if```...```elif```...```else```很灵活。\n",
    "\n",
    "条件判断从上向下匹配，当满足条件时执行对应的块内语句，后续的```elif```和```else```都不再执行。\n",
    "\n",
    "![Figure 3.8](https://static.liaoxuefeng.com/files/attachments/924016831038688/0)"
   ]
  },
  {
   "cell_type": "markdown",
   "metadata": {},
   "source": []
  },
  {
   "cell_type": "markdown",
   "metadata": {},
   "source": [
    "## 循环"
   ]
  },
  {
   "cell_type": "markdown",
   "metadata": {},
   "source": [
    "要计算$1+2+3$，我们可以直接写表达式：\n",
    "\n",
    "```\n",
    ">>> 1 + 2 + 3\n",
    "6\n",
    "```\n",
    "\n",
    "要计算$1+2+3+\\cdots+10$，勉强也能写出来。\n",
    "\n",
    "但是，要计算$1+2+3+\\cdots+10000$，直接写表达式就不可能了。\n",
    "\n",
    "为了让计算机能计算成千上万次的重复运算，我们就需要循环语句。\n",
    "\n",
    "Python的循环有两种，**一种是```for```...```in```循环，依次把```list```或```tuple```中的每个元素迭代出来**，看例子："
   ]
  },
  {
   "cell_type": "code",
   "execution_count": 10,
   "metadata": {},
   "outputs": [
    {
     "name": "stdout",
     "output_type": "stream",
     "text": [
      "Michael\n",
      "Bob\n",
      "Tracy\n"
     ]
    }
   ],
   "source": [
    "names = ['Michael', 'Bob', 'Tracy']\n",
    "for name in names:\n",
    "    print(name)"
   ]
  },
  {
   "cell_type": "markdown",
   "metadata": {},
   "source": [
    "执行这段代码，会依次打印```names```的每一个元素."
   ]
  },
  {
   "cell_type": "markdown",
   "metadata": {},
   "source": [
    "所以```for x in ...```循环就是把每个元素代入变量```x```，然后执行缩进块的语句。\n",
    "\n",
    "再比如我们想计算```1-10```的整数之和，可以用一个```sum```变量做累加："
   ]
  },
  {
   "cell_type": "code",
   "execution_count": 11,
   "metadata": {},
   "outputs": [
    {
     "name": "stdout",
     "output_type": "stream",
     "text": [
      "55\n"
     ]
    }
   ],
   "source": [
    "sum = 0\n",
    "for x in [1, 2, 3, 4, 5, 6, 7, 8, 9, 10]:\n",
    "    sum = sum + x\n",
    "print(sum)"
   ]
  },
  {
   "cell_type": "markdown",
   "metadata": {},
   "source": [
    "如果要计算```1-100```的整数之和，从```1```写到```100```有点困难，**幸好Python提供一个```range()```函数，可以生成一个整数序列**，再通过```list()```函数可以转换为```list```。比如```range(5)```生成的序列是从0开始小于5的整数："
   ]
  },
  {
   "cell_type": "code",
   "execution_count": 12,
   "metadata": {},
   "outputs": [
    {
     "data": {
      "text/plain": [
       "[0, 1, 2, 3, 4]"
      ]
     },
     "execution_count": 12,
     "metadata": {},
     "output_type": "execute_result"
    }
   ],
   "source": [
    "list(range(5))"
   ]
  },
  {
   "cell_type": "markdown",
   "metadata": {},
   "source": [
    "```range(101)```就可以生成0-100的整数序列，计算如下："
   ]
  },
  {
   "cell_type": "code",
   "execution_count": 13,
   "metadata": {},
   "outputs": [
    {
     "name": "stdout",
     "output_type": "stream",
     "text": [
      "5050\n"
     ]
    }
   ],
   "source": [
    "sum = 0\n",
    "for x in range(101):\n",
    "    sum = sum + x\n",
    "print(sum)"
   ]
  },
  {
   "cell_type": "markdown",
   "metadata": {},
   "source": [
    "**第二种循环是```while```循环，只要条件满足，就不断循环，条件不满足时退出循环。**比如我们要计算100以内所有奇数之和，可以用```while```循环实现："
   ]
  },
  {
   "cell_type": "code",
   "execution_count": 14,
   "metadata": {},
   "outputs": [
    {
     "name": "stdout",
     "output_type": "stream",
     "text": [
      "2500\n"
     ]
    }
   ],
   "source": [
    "sum = 0\n",
    "n = 99\n",
    "while n > 0:\n",
    "    sum = sum + n\n",
    "    n = n - 2\n",
    "print(sum)"
   ]
  },
  {
   "cell_type": "markdown",
   "metadata": {},
   "source": [
    "在循环内部变量```n```不断自减，直到变为```-1```时，不再满足```while```条件，循环退出。"
   ]
  },
  {
   "cell_type": "markdown",
   "metadata": {},
   "source": [
    "### 练习"
   ]
  },
  {
   "cell_type": "markdown",
   "metadata": {},
   "source": [
    "请利用循环依次对```list```中的每个名字打印出```Hello, xxx!```：\n",
    "\n",
    "```\n",
    "L = ['Bart', 'Lisa', 'Adam']\n",
    "```"
   ]
  },
  {
   "cell_type": "code",
   "execution_count": 16,
   "metadata": {},
   "outputs": [
    {
     "name": "stdout",
     "output_type": "stream",
     "text": [
      "Hello, Bart!\n",
      "Hello, Lisa!\n",
      "Hello, Adam!\n"
     ]
    }
   ],
   "source": [
    "L = ['Bart', 'Lisa', 'Adam']\n",
    "\n",
    "for name in L:\n",
    "    print(\"Hello, %s!\" % name)"
   ]
  },
  {
   "cell_type": "markdown",
   "metadata": {},
   "source": [
    "### ```break```"
   ]
  },
  {
   "cell_type": "markdown",
   "metadata": {},
   "source": [
    "在循环中，```break```语句可以提前退出循环。例如，本来要循环打印1～100的数字：\n",
    "\n",
    "```\n",
    "n = 1\n",
    "while n <= 100:\n",
    "    print(n)\n",
    "    n = n + 1\n",
    "print('END')\n",
    "```\n",
    "\n",
    "上面的代码可以打印出1~100。\n",
    "\n",
    "如果要提前结束循环，可以用```break```语句：\n",
    "\n",
    "```\n",
    "n = 1\n",
    "while n <= 100:\n",
    "    if n > 10: # 当n = 11时，条件满足，执行break语句\n",
    "        break # break语句会结束当前循环\n",
    "    print(n)\n",
    "    n = n + 1\n",
    "print('END')\n",
    "```\n",
    "\n",
    "执行上面的代码可以看到，打印出1~10后，紧接着打印E```ND```，程序结束。\n",
    "\n",
    "**可见```break```的作用是提前结束循环。**"
   ]
  },
  {
   "cell_type": "markdown",
   "metadata": {},
   "source": [
    "### continue"
   ]
  },
  {
   "cell_type": "markdown",
   "metadata": {},
   "source": [
    "在循环过程中，也可以通过```continue```语句，跳过当前的这次循环，直接开始下一次循环。\n",
    "\n",
    "```\n",
    "n = 0\n",
    "while n < 10:\n",
    "    n = n + 1\n",
    "    print(n)\n",
    "```\n",
    "\n",
    "上面的程序可以打印出1～10。但是，如果我们想只打印奇数，可以用````continue```语句跳过某些循环：\n",
    "\n",
    "```\n",
    "n = 0\n",
    "while n < 10:\n",
    "    n = n + 1\n",
    "    if n % 2 == 0: # 如果n是偶数，执行continue语句\n",
    "        continue # continue语句会直接继续下一轮循环，后续的print()语句不会执行\n",
    "    print(n)\n",
    "```\n",
    "\n",
    "执行上面的代码可以看到，打印的不再是1～10，而是1，3，5，7，9。\n",
    "\n",
    "**可见```continue```的作用是提前结束本轮循环，并直接开始下一轮循环。**"
   ]
  },
  {
   "cell_type": "markdown",
   "metadata": {},
   "source": [
    "### 小结"
   ]
  },
  {
   "cell_type": "markdown",
   "metadata": {},
   "source": [
    "循环是让计算机做重复任务的有效的方法。\n",
    "\n",
    "```break```语句可以在循环过程中直接退出循环，而```continue```语句可以提前结束本轮循环，并直接开始下一轮循环。这两个语句通常都必须配合```if```语句使用。\n",
    "\n",
    "要特别注意，不要滥用```break```和```continue```语句。```break```和```continue```会造成代码执行逻辑分叉过多，容易出错。大多数循环并不需要用到```break```和```continue```语句，上面的两个例子，都可以通过改写循环条件或者修改循环逻辑，去掉```break```和```continue```语句。\n",
    "\n",
    "有些时候，如果代码写得有问题，会让程序陷入“死循环”，也就是永远循环下去。这时可以用Ctrl+C退出程序，或者强制结束Python进程。\n",
    "\n",
    "请试写一个死循环程序。\n",
    "\n",
    "```\n",
    "while True:\n",
    "    print(\"INFINITE LOOP!\")\n",
    "```"
   ]
  },
  {
   "cell_type": "markdown",
   "metadata": {},
   "source": []
  },
  {
   "cell_type": "markdown",
   "metadata": {},
   "source": [
    "## 使用```dict```和```set```"
   ]
  },
  {
   "cell_type": "markdown",
   "metadata": {},
   "source": [
    "### ```dict```"
   ]
  },
  {
   "cell_type": "markdown",
   "metadata": {},
   "source": [
    "**Python内置了字典：```dict```的支持，```dict```全称dictionary，在其他语言中也称为```map```，使用键-值（key-value）存储，具有极快的查找速度。**\n",
    "\n",
    "举个例子，假设要根据同学的名字查找对应的成绩，如果用```list```实现，需要两个```list```："
   ]
  },
  {
   "cell_type": "code",
   "execution_count": 17,
   "metadata": {},
   "outputs": [],
   "source": [
    "names = ['Michael', 'Bob', 'Tracy']\n",
    "scores = [95, 75, 85]"
   ]
  },
  {
   "cell_type": "markdown",
   "metadata": {},
   "source": [
    "给定一个名字，要查找对应的成绩，就先要在```names```中找到对应的位置，再从```scores```取出对应的成绩，```list```越长，耗时越长。\n",
    "\n",
    "如果用```dict```实现，只需要一个“名字”-“成绩”的对照表，直接根据名字查找成绩，无论这个表有多大，查找速度都不会变慢。用Python写一个```dict```如下："
   ]
  },
  {
   "cell_type": "code",
   "execution_count": 19,
   "metadata": {},
   "outputs": [
    {
     "data": {
      "text/plain": [
       "95"
      ]
     },
     "execution_count": 19,
     "metadata": {},
     "output_type": "execute_result"
    }
   ],
   "source": [
    "d = {'Michael': 95, 'Bob': 75, 'Tracy': 85}\n",
    "d['Michael']"
   ]
  },
  {
   "cell_type": "markdown",
   "metadata": {},
   "source": [
    "为什么```dict```查找速度这么快？因为```dict```的实现原理和查字典是一样的。假设字典包含了1万个汉字，我们要查某一个字，一个办法是把字典从第一页往后翻，直到找到我们想要的字为止，这种方法就是在```list```中查找元素的方法，```list```越大，查找越慢。\n",
    "\n",
    "第二种方法是先在字典的索引表里（比如部首表）查这个字对应的页码，然后直接翻到该页，找到这个字。无论找哪个字，这种查找速度都非常快，不会随着字典大小的增加而变慢。\n",
    "\n",
    "```dict```就是第二种实现方式，给定一个名字，比如```'Michael'```，```dict```在内部就可以直接计算出```Michael```对应的存放成绩的“页码”，也就是```95```这个数字存放的内存地址，直接取出来，所以速度非常快。\n",
    "\n",
    "你可以猜到，这种key-value存储方式，在放进去的时候，必须根据key算出value的存放位置，这样，取的时候才能根据key直接拿到value。\n",
    "\n",
    "把数据放入```dict```的方法，除了初始化时指定外，还可以通过key放入："
   ]
  },
  {
   "cell_type": "code",
   "execution_count": 20,
   "metadata": {},
   "outputs": [
    {
     "name": "stdout",
     "output_type": "stream",
     "text": [
      "{'Michael': 95, 'Bob': 75, 'Tracy': 85, 'Adam': 67}\n"
     ]
    }
   ],
   "source": [
    "d['Adam'] = 67\n",
    "print(d)"
   ]
  },
  {
   "cell_type": "markdown",
   "metadata": {},
   "source": [
    "*由于一个key只能对应一个value，所以，多次对一个key放入value，后面的值会把前面的值冲掉*："
   ]
  },
  {
   "cell_type": "code",
   "execution_count": 21,
   "metadata": {},
   "outputs": [
    {
     "name": "stdout",
     "output_type": "stream",
     "text": [
      "{'Michael': 95, 'Bob': 75, 'Tracy': 85, 'Adam': 67, 'Jack': 90}\n"
     ]
    }
   ],
   "source": [
    "d['Jack'] = 90\n",
    "print(d)"
   ]
  },
  {
   "cell_type": "code",
   "execution_count": 22,
   "metadata": {},
   "outputs": [
    {
     "name": "stdout",
     "output_type": "stream",
     "text": [
      "{'Michael': 95, 'Bob': 75, 'Tracy': 85, 'Adam': 67, 'Jack': 88}\n"
     ]
    }
   ],
   "source": [
    "d['Jack'] = 88\n",
    "print(d)"
   ]
  },
  {
   "cell_type": "markdown",
   "metadata": {},
   "source": [
    "如果key不存在，```dict```就会报错：\n",
    "\n",
    "```\n",
    ">>> d['Thomas']\n",
    "Traceback (most recent call last):\n",
    "  File \"<stdin>\", line 1, in <module>\n",
    "KeyError: 'Thomas'\n",
    "```\n",
    "\n",
    "**要避免key不存在的错误，有两种办法，一是通过```in```判断key是否存在**："
   ]
  },
  {
   "cell_type": "code",
   "execution_count": 23,
   "metadata": {},
   "outputs": [
    {
     "data": {
      "text/plain": [
       "False"
      ]
     },
     "execution_count": 23,
     "metadata": {},
     "output_type": "execute_result"
    }
   ],
   "source": [
    "'Thomas' in d"
   ]
  },
  {
   "cell_type": "markdown",
   "metadata": {},
   "source": [
    "**二是通过```dict```提供的```get()```方法，如果key不存在，可以返回```None```，或者自己指定的value**："
   ]
  },
  {
   "cell_type": "code",
   "execution_count": 25,
   "metadata": {},
   "outputs": [
    {
     "name": "stdout",
     "output_type": "stream",
     "text": [
      "None\n"
     ]
    }
   ],
   "source": [
    "print(d.get('Thomas'))"
   ]
  },
  {
   "cell_type": "code",
   "execution_count": 26,
   "metadata": {},
   "outputs": [
    {
     "name": "stdout",
     "output_type": "stream",
     "text": [
      "-1\n"
     ]
    }
   ],
   "source": [
    "print(d.get('Thomas', -1))"
   ]
  },
  {
   "cell_type": "markdown",
   "metadata": {},
   "source": [
    "注意：返回```None```的时候Python的交互环境不显示结果。\n",
    "\n",
    "**要删除一个key，用```pop(key)```方法，对应的value也会从```dict```中删除**："
   ]
  },
  {
   "cell_type": "code",
   "execution_count": 27,
   "metadata": {},
   "outputs": [
    {
     "name": "stdout",
     "output_type": "stream",
     "text": [
      "{'Michael': 95, 'Tracy': 85, 'Adam': 67, 'Jack': 88}\n"
     ]
    }
   ],
   "source": [
    "d.pop('Bob')\n",
    "print(d)"
   ]
  },
  {
   "cell_type": "markdown",
   "metadata": {},
   "source": [
    "请务必注意，```dict```内部存放的顺序和key放入的顺序是没有关系的。\n",
    "\n",
    "和```list```比较，```dict```有以下几个特点：\n",
    "\n",
    "1. 查找和插入的速度极快，不会随着key的增加而变慢；\n",
    "2. 需要占用大量的内存，内存浪费多。\n",
    "\n",
    "而```list```相反：\n",
    "\n",
    "1. 查找和插入的时间随着元素的增加而增加；\n",
    "2. 占用空间小，浪费内存很少。\n",
    "\n",
    "*所以，```dict```是用空间来换取时间的一种方法。*\n",
    "\n",
    "```dict```可以用在需要高速查找的很多地方，在Python代码中几乎无处不在，正确使用```dict```非常重要，*需要牢记的第一条就是```dict```的key必须是不可变对象。*\n",
    "\n",
    "这是因为```dict```根据key来计算value的存储位置，如果每次计算相同的key得出的结果不同，那dict内部就完全混乱了。**这个通过key计算位置的算法称为哈希算法（Hash）。**\n",
    "\n",
    "*要保证hash的正确性，作为key的对象就不能变。在Python中，字符串、整数等都是不可变的，因此，可以放心地作为key。而list是可变的，就不能作为key：*\n",
    "\n",
    "```\n",
    ">>> key = [1, 2, 3]\n",
    ">>> d[key] = 'a list'\n",
    "Traceback (most recent call last):\n",
    "  File \"<stdin>\", line 1, in <module>\n",
    "TypeError: unhashable type: 'list'\n",
    "```"
   ]
  },
  {
   "cell_type": "markdown",
   "metadata": {},
   "source": [
    "### ```set```"
   ]
  },
  {
   "cell_type": "markdown",
   "metadata": {},
   "source": [
    "**```set```和```dict```类似，也是一组key的集合，但不存储value。** *由于key不能重复，所以，在```set```中，没有重复的key。*\n",
    "\n",
    "要创建一个```set```，需要提供一个```list```作为输入集合："
   ]
  },
  {
   "cell_type": "code",
   "execution_count": 28,
   "metadata": {},
   "outputs": [
    {
     "name": "stdout",
     "output_type": "stream",
     "text": [
      "{1, 2, 3}\n"
     ]
    }
   ],
   "source": [
    "s = set([1, 2, 3])\n",
    "print(s)"
   ]
  },
  {
   "cell_type": "markdown",
   "metadata": {},
   "source": [
    "注意，传入的参数```[1, 2, 3]```是一个```list```，而显示的```{1, 2, 3}```只是告诉你这个```set```内部有```1```，```2```，```3```这3个元素，显示的顺序也不表示```set```是有序的。。\n",
    "\n",
    "*重复元素在```set```中自动被过滤*："
   ]
  },
  {
   "cell_type": "code",
   "execution_count": 29,
   "metadata": {},
   "outputs": [
    {
     "name": "stdout",
     "output_type": "stream",
     "text": [
      "{1, 2, 3}\n"
     ]
    }
   ],
   "source": [
    "s = set([1, 1, 2, 2, 3, 3])\n",
    "print(s)"
   ]
  },
  {
   "cell_type": "markdown",
   "metadata": {},
   "source": [
    "**通过```add(key)```方法可以添加元素到```set```中，可以重复添加，但不会有效果：**"
   ]
  },
  {
   "cell_type": "code",
   "execution_count": 34,
   "metadata": {},
   "outputs": [
    {
     "name": "stdout",
     "output_type": "stream",
     "text": [
      "{1, 2, 3, 4}\n"
     ]
    }
   ],
   "source": [
    "s.add(4)\n",
    "print(s)"
   ]
  },
  {
   "cell_type": "code",
   "execution_count": 32,
   "metadata": {},
   "outputs": [
    {
     "name": "stdout",
     "output_type": "stream",
     "text": [
      "{1, 2, 3, 4}\n"
     ]
    }
   ],
   "source": [
    "s.add(4)\n",
    "print(s)"
   ]
  },
  {
   "cell_type": "markdown",
   "metadata": {},
   "source": [
    "**通过```remove(key)```方法可以删除元素：**"
   ]
  },
  {
   "cell_type": "code",
   "execution_count": 35,
   "metadata": {},
   "outputs": [
    {
     "name": "stdout",
     "output_type": "stream",
     "text": [
      "{1, 2, 3}\n"
     ]
    }
   ],
   "source": [
    "s.remove(4)\n",
    "print(s)"
   ]
  },
  {
   "cell_type": "markdown",
   "metadata": {},
   "source": [
    "**```set```可以看成数学意义上的无序和无重复元素的集合，因此，两个set可以做数学意义上的交集、并集等操作：**"
   ]
  },
  {
   "cell_type": "code",
   "execution_count": 36,
   "metadata": {},
   "outputs": [
    {
     "name": "stdout",
     "output_type": "stream",
     "text": [
      "{2, 3}\n"
     ]
    }
   ],
   "source": [
    "s1 = set([1, 2, 3])\n",
    "s2 = set([2, 3, 4])\n",
    "\n",
    "print(s1 & s2)"
   ]
  },
  {
   "cell_type": "code",
   "execution_count": 37,
   "metadata": {},
   "outputs": [
    {
     "name": "stdout",
     "output_type": "stream",
     "text": [
      "{1, 2, 3, 4}\n"
     ]
    }
   ],
   "source": [
    "print(s1 | s2)"
   ]
  },
  {
   "cell_type": "markdown",
   "metadata": {},
   "source": [
    "*```set```和```dict```的唯一区别仅在于没有存储对应的value，但是，```se```的原理和```dict```一样，所以，同样不可以放入可变对象，因为无法判断两个可变对象是否相等，也就无法保证set内部“不会有重复元素”*。试试把list放入set，看看是否会报错。"
   ]
  },
  {
   "cell_type": "markdown",
   "metadata": {},
   "source": [
    "### 再议不可变对象"
   ]
  },
  {
   "cell_type": "markdown",
   "metadata": {},
   "source": [
    "上面我们讲了，```str```是不变对象，而```list```是可变对象。\n",
    "\n",
    "对于可变对象，比如```list```，对```list```进行操作，```list```内部的内容是会变化的，比如："
   ]
  },
  {
   "cell_type": "code",
   "execution_count": 38,
   "metadata": {},
   "outputs": [
    {
     "name": "stdout",
     "output_type": "stream",
     "text": [
      "['a', 'b', 'c']\n"
     ]
    }
   ],
   "source": [
    "a = ['c', 'b', 'a']\n",
    "a.sort()\n",
    "print(a)"
   ]
  },
  {
   "cell_type": "markdown",
   "metadata": {},
   "source": [
    "而对于不可变对象，比如```str```，对```str```进行操作呢："
   ]
  },
  {
   "cell_type": "code",
   "execution_count": 40,
   "metadata": {},
   "outputs": [
    {
     "name": "stdout",
     "output_type": "stream",
     "text": [
      "Abc\n",
      "abc\n"
     ]
    }
   ],
   "source": [
    "a = 'abc'\n",
    "print(a.replace('a', 'A'))\n",
    "print(a)"
   ]
  },
  {
   "cell_type": "markdown",
   "metadata": {},
   "source": [
    "虽然字符串有个```replace()```方法，也确实变出了```'Abc'```，但变量```a```最后仍是```'abc'```，应该怎么理解呢？\n",
    "\n",
    "我们先把代码改成下面这样："
   ]
  },
  {
   "cell_type": "code",
   "execution_count": 42,
   "metadata": {},
   "outputs": [
    {
     "name": "stdout",
     "output_type": "stream",
     "text": [
      "Abc\n",
      "abc\n"
     ]
    }
   ],
   "source": [
    "a = 'abc'\n",
    "b = a.replace('a', 'A')\n",
    "print(b)\n",
    "print(a)"
   ]
  },
  {
   "cell_type": "markdown",
   "metadata": {},
   "source": [
    "要始终牢记的是，```a```是变量，而```'abc'```才是字符串对象！有些时候，我们经常说，对象```a```的内容是```'abc'```，但其实是指，```a```本身是一个变量，它指向的对象的内容才是```'abc'```.\n",
    "\n",
    "当我们调用```a.replace('a', 'A')```时，实际上调用方法```replace```是作用在字符串对象```'abc'```上的，而这个方法虽然名字叫```replace```，但却没有改变字符串```'abc'```的内容。相反，```replace```方法创建了一个新字符串```'Abc'```并返回，如果我们用变量```b```指向该新字符串，就容易理解了，变量```a```仍指向原有的字符串```'abc'```，但变量```b```却指向新字符串```'Abc'```了.\n",
    "\n",
    "*所以，对于不变对象来说，调用对象自身的任意方法，也不会改变该对象自身的内容。相反，这些方法会创建新的对象并返回，这样，就保证了不可变对象本身永远是不可变的。*"
   ]
  },
  {
   "cell_type": "markdown",
   "metadata": {},
   "source": [
    "### 小结"
   ]
  },
  {
   "cell_type": "markdown",
   "metadata": {},
   "source": [
    "使用key-value存储结构的```dict```在Python中非常有用，选择不可变对象作为key很重要，最常用的key是字符串。\n",
    "\n",
    "```tuple```虽然是不变对象，但试试把```(1, 2, 3)```和```(1, [2, 3])```放入dict或set中，并解释结果。"
   ]
  },
  {
   "cell_type": "code",
   "execution_count": 45,
   "metadata": {},
   "outputs": [
    {
     "name": "stdout",
     "output_type": "stream",
     "text": [
      "{(1, 2, 3): 'something'}\n"
     ]
    }
   ],
   "source": [
    "key = (1, 2, 3)\n",
    "value = 'something'\n",
    "d = {key: value}\n",
    "print(d)"
   ]
  },
  {
   "cell_type": "markdown",
   "metadata": {},
   "source": [
    "```\n",
    "key = (1, [2, 3])\n",
    "value = 'something'\n",
    "d[key] = value\n",
    "print(d)\n",
    "---------------------------------------------------------------------------\n",
    "TypeError                                 Traceback (most recent call last)\n",
    "<ipython-input-46-10f0e50d268b> in <module>\n",
    "      1 key = (1, [2, 3])\n",
    "      2 value = 'something'\n",
    "----> 3 d[key] = value\n",
    "\n",
    "TypeError: unhashable type: 'list'\n",
    "```"
   ]
  },
  {
   "cell_type": "code",
   "execution_count": null,
   "metadata": {},
   "outputs": [],
   "source": []
  }
 ],
 "metadata": {
  "kernelspec": {
   "display_name": "Python 3",
   "language": "python",
   "name": "python3"
  },
  "language_info": {
   "codemirror_mode": {
    "name": "ipython",
    "version": 3
   },
   "file_extension": ".py",
   "mimetype": "text/x-python",
   "name": "python",
   "nbconvert_exporter": "python",
   "pygments_lexer": "ipython3",
   "version": "3.8.5"
  }
 },
 "nbformat": 4,
 "nbformat_minor": 4
}
